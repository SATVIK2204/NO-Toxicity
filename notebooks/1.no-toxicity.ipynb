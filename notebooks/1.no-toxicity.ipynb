{
 "cells": [
  {
   "cell_type": "code",
   "execution_count": 1,
   "metadata": {},
   "outputs": [],
   "source": [
    "import pandas as pd\r\n",
    "import sys\r\n",
    "import numpy as np\r\n",
    "from pickle import dump,load\r\n",
    "from collections import Counter\r\n",
    "import torch \r\n",
    "import torch.optim as optim\r\n",
    "import torch.nn as nn\r\n",
    "from tqdm.notebook import tqdm\r\n",
    "from torch.nn.utils.rnn import pad_sequence\r\n",
    "from torch.utils.data import DataLoader\r\n",
    "from sklearn.metrics import accuracy_score\r\n",
    "import seaborn as sns\r\n",
    "import os\r\n",
    "import warnings\r\n",
    "warnings.filterwarnings('ignore')\r\n",
    "\r\n",
    "sys.path.append('../../')\r\n",
    "%load_ext autoreload"
   ]
  },
  {
   "cell_type": "code",
   "execution_count": 49,
   "metadata": {},
   "outputs": [],
   "source": [
    "df=pd.read_csv('../data/modified/data_to_work_on.csv')"
   ]
  },
  {
   "cell_type": "code",
   "execution_count": 8,
   "metadata": {},
   "outputs": [
    {
     "data": {
      "text/html": "<div>\n<style scoped>\n    .dataframe tbody tr th:only-of-type {\n        vertical-align: middle;\n    }\n\n    .dataframe tbody tr th {\n        vertical-align: top;\n    }\n\n    .dataframe thead th {\n        text-align: right;\n    }\n</style>\n<table border=\"1\" class=\"dataframe\">\n  <thead>\n    <tr style=\"text-align: right;\">\n      <th></th>\n      <th>comment_text</th>\n      <th>toxic</th>\n      <th>severe_toxic</th>\n      <th>obscene</th>\n      <th>threat</th>\n      <th>insult</th>\n      <th>identity_hate</th>\n    </tr>\n  </thead>\n  <tbody>\n    <tr>\n      <th>0</th>\n      <td>Explanation\\nWhy the edits made under my usern...</td>\n      <td>0</td>\n      <td>0</td>\n      <td>0</td>\n      <td>0</td>\n      <td>0</td>\n      <td>0</td>\n    </tr>\n    <tr>\n      <th>1</th>\n      <td>D'aww! He matches this background colour I'm s...</td>\n      <td>0</td>\n      <td>0</td>\n      <td>0</td>\n      <td>0</td>\n      <td>0</td>\n      <td>0</td>\n    </tr>\n    <tr>\n      <th>2</th>\n      <td>Hey man, I'm really not trying to edit war. It...</td>\n      <td>0</td>\n      <td>0</td>\n      <td>0</td>\n      <td>0</td>\n      <td>0</td>\n      <td>0</td>\n    </tr>\n    <tr>\n      <th>3</th>\n      <td>\"\\nMore\\nI can't make any real suggestions on ...</td>\n      <td>0</td>\n      <td>0</td>\n      <td>0</td>\n      <td>0</td>\n      <td>0</td>\n      <td>0</td>\n    </tr>\n    <tr>\n      <th>4</th>\n      <td>You, sir, are my hero. Any chance you remember...</td>\n      <td>0</td>\n      <td>0</td>\n      <td>0</td>\n      <td>0</td>\n      <td>0</td>\n      <td>0</td>\n    </tr>\n  </tbody>\n</table>\n</div>",
      "text/plain": "                                        comment_text  toxic  severe_toxic  \\\n0  Explanation\\nWhy the edits made under my usern...      0             0   \n1  D'aww! He matches this background colour I'm s...      0             0   \n2  Hey man, I'm really not trying to edit war. It...      0             0   \n3  \"\\nMore\\nI can't make any real suggestions on ...      0             0   \n4  You, sir, are my hero. Any chance you remember...      0             0   \n\n   obscene  threat  insult  identity_hate  \n0        0       0       0              0  \n1        0       0       0              0  \n2        0       0       0              0  \n3        0       0       0              0  \n4        0       0       0              0  "
     },
     "execution_count": 8,
     "metadata": {},
     "output_type": "execute_result"
    }
   ],
   "source": [
    "df.head()"
   ]
  },
  {
   "cell_type": "code",
   "execution_count": 37,
   "metadata": {},
   "outputs": [],
   "source": [
    "%autoreload 2\r\n",
    "from no_toxicity.src.preprocessing.cleaning import Dfcleaner"
   ]
  },
  {
   "cell_type": "code",
   "execution_count": 47,
   "metadata": {},
   "outputs": [],
   "source": [
    "# Making the list of column to clean\r\n",
    "raw_comments=df['comment_text'].to_list()"
   ]
  },
  {
   "cell_type": "code",
   "execution_count": 106,
   "metadata": {},
   "outputs": [],
   "source": [
    "# See the cleaning.py to see how it works\r\n",
    "cleaner=Dfcleaner()"
   ]
  },
  {
   "cell_type": "code",
   "execution_count": 22,
   "metadata": {},
   "outputs": [
    {
     "name": "stdout",
     "output_type": "stream",
     "text": [
      "10000 examples cleaned out of 159571\n",
      "20000 examples cleaned out of 159571\n",
      "30000 examples cleaned out of 159571\n",
      "40000 examples cleaned out of 159571\n",
      "50000 examples cleaned out of 159571\n",
      "60000 examples cleaned out of 159571\n",
      "70000 examples cleaned out of 159571\n",
      "80000 examples cleaned out of 159571\n",
      "90000 examples cleaned out of 159571\n",
      "100000 examples cleaned out of 159571\n",
      "110000 examples cleaned out of 159571\n",
      "120000 examples cleaned out of 159571\n",
      "130000 examples cleaned out of 159571\n",
      "140000 examples cleaned out of 159571\n",
      "150000 examples cleaned out of 159571\n",
      "Cleaning Done\n"
     ]
    }
   ],
   "source": [
    "cleaned_comments=cleaner.clean(raw_comments,stem=False)"
   ]
  },
  {
   "cell_type": "code",
   "execution_count": 129,
   "metadata": {},
   "outputs": [
    {
     "name": "stdout",
     "output_type": "stream",
     "text": [
      "10000 examples cleaned out of 159517\n",
      "20000 examples cleaned out of 159517\n",
      "30000 examples cleaned out of 159517\n",
      "40000 examples cleaned out of 159517\n",
      "50000 examples cleaned out of 159517\n",
      "60000 examples cleaned out of 159517\n",
      "70000 examples cleaned out of 159517\n",
      "80000 examples cleaned out of 159517\n",
      "90000 examples cleaned out of 159517\n",
      "100000 examples cleaned out of 159517\n",
      "110000 examples cleaned out of 159517\n",
      "120000 examples cleaned out of 159517\n",
      "130000 examples cleaned out of 159517\n",
      "140000 examples cleaned out of 159517\n",
      "150000 examples cleaned out of 159517\n",
      "Cleaning Done\n"
     ]
    }
   ],
   "source": [
    "cleaned_comments=cleaner.remove_frequent_rare(cleaned_comments,frequent=True,rare=True)"
   ]
  },
  {
   "cell_type": "code",
   "execution_count": 131,
   "metadata": {},
   "outputs": [],
   "source": [
    "# Replacing the df column with new data\r\n",
    "df['comment_text']=cleaned_comments"
   ]
  },
  {
   "cell_type": "code",
   "execution_count": 133,
   "metadata": {},
   "outputs": [],
   "source": [
    "# # Saving the cleaned data (don't run this cell)\r\n",
    "# df.to_csv('../data/interim/cleaned_data1.csv',index=False)"
   ]
  },
  {
   "cell_type": "code",
   "execution_count": 2,
   "metadata": {},
   "outputs": [],
   "source": [
    "# Load the data\r\n",
    "data=pd.read_csv('../data/interim/cleaned_data1.csv')\r\n",
    "data.dropna(inplace=True)"
   ]
  },
  {
   "cell_type": "code",
   "execution_count": 3,
   "metadata": {},
   "outputs": [],
   "source": [
    "# Let's make our own new feature\r\n",
    "def new_col_value(row):\r\n",
    "    flag=True\r\n",
    "    # If the sample is toxic make it 0 and break else 1\r\n",
    "    for i in row.iloc[1:]:\r\n",
    "        if i==1:\r\n",
    "            flag=False\r\n",
    "            break\r\n",
    "    if flag:\r\n",
    "        return 1\r\n",
    "    else:\r\n",
    "        return 0\r\n"
   ]
  },
  {
   "cell_type": "code",
   "execution_count": 4,
   "metadata": {},
   "outputs": [],
   "source": [
    "# Making the new feature\r\n",
    "data['not_toxic']=data.apply(lambda row:new_col_value(row),axis=1)"
   ]
  },
  {
   "cell_type": "code",
   "execution_count": 5,
   "metadata": {},
   "outputs": [
    {
     "data": {
      "image/png": "[encoded data removed]",
      "text/plain": "<Figure size 432x288 with 1 Axes>"
     },
     "metadata": {
      "needs_background": "light"
     },
     "output_type": "display_data"
    }
   ],
   "source": [
    "_=sns.countplot('not_toxic',data=data)"
   ]
  },
  {
   "cell_type": "markdown",
   "metadata": {},
   "source": [
    "## We can clearly see our dataset is imbalanced so let's UnderSample our majority class"
   ]
  },
  {
   "cell_type": "code",
   "execution_count": 6,
   "metadata": {},
   "outputs": [],
   "source": [
    "from imblearn.under_sampling import RandomUnderSampler"
   ]
  },
  {
   "cell_type": "code",
   "execution_count": 7,
   "metadata": {},
   "outputs": [],
   "source": [
    "rus = RandomUnderSampler(random_state=42)\r\n",
    "data,Y_label= rus.fit_resample(data.iloc[:,:-1],data.iloc[:,-1])\r\n",
    "data['not_toxic']=Y_label"
   ]
  },
  {
   "cell_type": "code",
   "execution_count": 8,
   "metadata": {},
   "outputs": [],
   "source": [
    "data = data.sample(frac=1).reset_index(drop=True)"
   ]
  },
  {
   "cell_type": "code",
   "execution_count": 9,
   "metadata": {},
   "outputs": [
    {
     "data": {
      "text/html": "<div>\n<style scoped>\n    .dataframe tbody tr th:only-of-type {\n        vertical-align: middle;\n    }\n\n    .dataframe tbody tr th {\n        vertical-align: top;\n    }\n\n    .dataframe thead th {\n        text-align: right;\n    }\n</style>\n<table border=\"1\" class=\"dataframe\">\n  <thead>\n    <tr style=\"text-align: right;\">\n      <th></th>\n      <th>comment_text</th>\n      <th>toxic</th>\n      <th>severe_toxic</th>\n      <th>obscene</th>\n      <th>threat</th>\n      <th>insult</th>\n      <th>identity_hate</th>\n      <th>not_toxic</th>\n    </tr>\n  </thead>\n  <tbody>\n    <tr>\n      <th>0</th>\n      <td>shut need right mentality agree fuck sake</td>\n      <td>1</td>\n      <td>0</td>\n      <td>1</td>\n      <td>0</td>\n      <td>0</td>\n      <td>0</td>\n      <td>0</td>\n    </tr>\n    <tr>\n      <th>1</th>\n      <td>dear wanker call reason give straight probably...</td>\n      <td>1</td>\n      <td>0</td>\n      <td>1</td>\n      <td>0</td>\n      <td>0</td>\n      <td>0</td>\n      <td>0</td>\n    </tr>\n    <tr>\n      <th>2</th>\n      <td>apparently miss say felt roux demonstrate good...</td>\n      <td>0</td>\n      <td>0</td>\n      <td>0</td>\n      <td>0</td>\n      <td>0</td>\n      <td>0</td>\n      <td>1</td>\n    </tr>\n    <tr>\n      <th>3</th>\n      <td>really point ever come afd feel free chime tal...</td>\n      <td>0</td>\n      <td>0</td>\n      <td>0</td>\n      <td>0</td>\n      <td>0</td>\n      <td>0</td>\n      <td>1</td>\n    </tr>\n    <tr>\n      <th>4</th>\n      <td>feel honour take time busy cocksucking schedul...</td>\n      <td>1</td>\n      <td>0</td>\n      <td>1</td>\n      <td>0</td>\n      <td>0</td>\n      <td>0</td>\n      <td>0</td>\n    </tr>\n    <tr>\n      <th>...</th>\n      <td>...</td>\n      <td>...</td>\n      <td>...</td>\n      <td>...</td>\n      <td>...</td>\n      <td>...</td>\n      <td>...</td>\n      <td>...</td>\n    </tr>\n    <tr>\n      <th>32445</th>\n      <td>fuck motherfucking try delete comment fuck touch</td>\n      <td>1</td>\n      <td>1</td>\n      <td>1</td>\n      <td>0</td>\n      <td>1</td>\n      <td>0</td>\n      <td>0</td>\n    </tr>\n    <tr>\n      <th>32446</th>\n      <td>purrum look mirror mate full self righteous op...</td>\n      <td>1</td>\n      <td>0</td>\n      <td>0</td>\n      <td>0</td>\n      <td>0</td>\n      <td>0</td>\n      <td>0</td>\n    </tr>\n    <tr>\n      <th>32447</th>\n      <td>„same ukraininan vandal — russian nazi stop dr...</td>\n      <td>1</td>\n      <td>0</td>\n      <td>0</td>\n      <td>0</td>\n      <td>1</td>\n      <td>1</td>\n      <td>0</td>\n    </tr>\n    <tr>\n      <th>32448</th>\n      <td>really need kill</td>\n      <td>1</td>\n      <td>0</td>\n      <td>0</td>\n      <td>0</td>\n      <td>1</td>\n      <td>0</td>\n      <td>0</td>\n    </tr>\n    <tr>\n      <th>32449</th>\n      <td>look like establish user objection change</td>\n      <td>0</td>\n      <td>0</td>\n      <td>0</td>\n      <td>0</td>\n      <td>0</td>\n      <td>0</td>\n      <td>1</td>\n    </tr>\n  </tbody>\n</table>\n<p>32450 rows × 8 columns</p>\n</div>",
      "text/plain": "                                            comment_text  toxic  severe_toxic  \\\n0              shut need right mentality agree fuck sake      1             0   \n1      dear wanker call reason give straight probably...      1             0   \n2      apparently miss say felt roux demonstrate good...      0             0   \n3      really point ever come afd feel free chime tal...      0             0   \n4      feel honour take time busy cocksucking schedul...      1             0   \n...                                                  ...    ...           ...   \n32445   fuck motherfucking try delete comment fuck touch      1             1   \n32446  purrum look mirror mate full self righteous op...      1             0   \n32447  „same ukraininan vandal — russian nazi stop dr...      1             0   \n32448                                   really need kill      1             0   \n32449          look like establish user objection change      0             0   \n\n       obscene  threat  insult  identity_hate  not_toxic  \n0            1       0       0              0          0  \n1            1       0       0              0          0  \n2            0       0       0              0          1  \n3            0       0       0              0          1  \n4            1       0       0              0          0  \n...        ...     ...     ...            ...        ...  \n32445        1       0       1              0          0  \n32446        0       0       0              0          0  \n32447        0       0       1              1          0  \n32448        0       0       1              0          0  \n32449        0       0       0              0          1  \n\n[32450 rows x 8 columns]"
     },
     "execution_count": 9,
     "metadata": {},
     "output_type": "execute_result"
    }
   ],
   "source": [
    "data"
   ]
  },
  {
   "cell_type": "code",
   "execution_count": 10,
   "metadata": {},
   "outputs": [],
   "source": [
    "%autoreload 2\r\n",
    "from no_toxicity.src.preprocessing.preprocess import PrepareTheData"
   ]
  },
  {
   "cell_type": "code",
   "execution_count": 11,
   "metadata": {},
   "outputs": [
    {
     "name": "stdout",
     "output_type": "stream",
     "text": [
      "Tokenization Done\n",
      "Replacing Done\n",
      "token2idx created\n",
      "tokens_to_indices created\n",
      "Presprocessing done\n"
     ]
    }
   ],
   "source": [
    "# See the preprocess.py to see how it works\r\n",
    "dataset=PrepareTheData(data[['comment_text']],data.iloc[:,1:],max_vocab=2000)"
   ]
  },
  {
   "cell_type": "code",
   "execution_count": 12,
   "metadata": {},
   "outputs": [],
   "source": [
    "train_size = int(0.9 * len(dataset))\r\n",
    "test_size = len(dataset) - train_size\r\n",
    "train_dataset, validation_dataset = torch.utils.data.random_split(dataset, [train_size, test_size])"
   ]
  },
  {
   "cell_type": "code",
   "execution_count": 13,
   "metadata": {},
   "outputs": [],
   "source": [
    "device = torch.device('cuda' if torch.cuda.is_available() else 'cpu')"
   ]
  },
  {
   "cell_type": "code",
   "execution_count": 14,
   "metadata": {},
   "outputs": [],
   "source": [
    "def collate(batch):\r\n",
    "    inputs = [torch.LongTensor(item[0]) for item in batch]\r\n",
    "    targets = [item[1] for item in batch]\r\n",
    "    targets=torch.Tensor(targets)\r\n",
    "\r\n",
    "    # Pad sequencse so that they are all the same length (within one minibatch)\r\n",
    "    padded_inputs = pad_sequence(inputs, padding_value=dataset.token2idx_inputs[dataset.padding_token], batch_first=True)\r\n",
    " \r\n",
    "    # Sort by length for CUDA optimizations\r\n",
    "    lengths = torch.LongTensor([len(x) for x in inputs])\r\n",
    "    lengths, permutation = lengths.sort(dim=0, descending=True)\r\n",
    "\r\n",
    "    return padded_inputs[permutation].to(device), targets[permutation].to(device), lengths.to(device)\r\n",
    "\r\n",
    "# Define the Dataloaders\r\n",
    "batch_size = 100\r\n",
    "train_loader = DataLoader(train_dataset, batch_size=batch_size, collate_fn=collate,shuffle=True)\r\n",
    "validation_loader = DataLoader(validation_dataset, batch_size=327, collate_fn=collate,shuffle=True)"
   ]
  },
  {
   "cell_type": "code",
   "execution_count": 15,
   "metadata": {},
   "outputs": [],
   "source": [
    "%autoreload 2\r\n",
    "from no_toxicity.src.models.MyModel import MyModel"
   ]
  },
  {
   "cell_type": "code",
   "execution_count": 16,
   "metadata": {},
   "outputs": [],
   "source": [
    "model = MyModel(input_vocab_size=len(dataset.token2idx_inputs), \r\n",
    "            emd_dim=100, \r\n",
    "            hidden_size=256,\r\n",
    "            batch_size=batch_size,\r\n",
    "            n_layers=3, \r\n",
    "            token_to_idx=dataset.token2idx_inputs).to(device)\r\n",
    "\r\n",
    "optimizer = optim.Adam([p for p in model.parameters() if p.requires_grad], lr=0.001)"
   ]
  },
  {
   "cell_type": "code",
   "execution_count": 18,
   "metadata": {},
   "outputs": [
    {
     "data": {
      "application/vnd.jupyter.widget-view+json": {
       "model_id": "908e8e41df68410ba37b8aab00a9c51d",
       "version_major": 2,
       "version_minor": 0
      },
      "text/plain": "  0%|          | 0/100 [00:00<?, ?it/s]"
     },
     "metadata": {},
     "output_type": "display_data"
    },
    {
     "data": {
      "application/vnd.jupyter.widget-view+json": {
       "model_id": "62d0b753f614421993e85f0077ddbcae",
       "version_major": 2,
       "version_minor": 0
      },
      "text/plain": "Training:   0%|          | 0/118 [00:00<?, ?it/s]"
     },
     "metadata": {},
     "output_type": "display_data"
    },
    {
     "name": "stdout",
     "output_type": "stream",
     "text": [
      "epoch #  1\ttrain_loss: 6.94e-03\tmodel_acc: {'accuracy': 0.5301204819277109}\n",
      "\n"
     ]
    },
    {
     "data": {
      "application/vnd.jupyter.widget-view+json": {
       "model_id": "0361212a61a54e7b95a3d780cc66a34d",
       "version_major": 2,
       "version_minor": 0
      },
      "text/plain": "Training:   0%|          | 0/118 [00:00<?, ?it/s]"
     },
     "metadata": {},
     "output_type": "display_data"
    },
    {
     "data": {
      "application/vnd.jupyter.widget-view+json": {
       "model_id": "1d0bafdd89b049f7bfedb1830d6d603a",
       "version_major": 2,
       "version_minor": 0
      },
      "text/plain": "Training:   0%|          | 0/118 [00:00<?, ?it/s]"
     },
     "metadata": {},
     "output_type": "display_data"
    },
    {
     "data": {
      "application/vnd.jupyter.widget-view+json": {
       "model_id": "3007a751d2c24224ba6434bf2174f3d8",
       "version_major": 2,
       "version_minor": 0
      },
      "text/plain": "Training:   0%|          | 0/118 [00:00<?, ?it/s]"
     },
     "metadata": {},
     "output_type": "display_data"
    },
    {
     "data": {
      "application/vnd.jupyter.widget-view+json": {
       "model_id": "4d1eb75dd43542e5b758efcec33dfb35",
       "version_major": 2,
       "version_minor": 0
      },
      "text/plain": "Training:   0%|          | 0/118 [00:00<?, ?it/s]"
     },
     "metadata": {},
     "output_type": "display_data"
    },
    {
     "data": {
      "application/vnd.jupyter.widget-view+json": {
       "model_id": "99f2e00af5e546e1ba6dafbf53a5aab6",
       "version_major": 2,
       "version_minor": 0
      },
      "text/plain": "Training:   0%|          | 0/118 [00:00<?, ?it/s]"
     },
     "metadata": {},
     "output_type": "display_data"
    },
    {
     "data": {
      "application/vnd.jupyter.widget-view+json": {
       "model_id": "ec5efa9b1ff14703b136f595b6382e2b",
       "version_major": 2,
       "version_minor": 0
      },
      "text/plain": "Training:   0%|          | 0/118 [00:00<?, ?it/s]"
     },
     "metadata": {},
     "output_type": "display_data"
    },
    {
     "data": {
      "application/vnd.jupyter.widget-view+json": {
       "model_id": "9e32f2b2412c4c72a4e872fea25dab38",
       "version_major": 2,
       "version_minor": 0
      },
      "text/plain": "Training:   0%|          | 0/118 [00:00<?, ?it/s]"
     },
     "metadata": {},
     "output_type": "display_data"
    },
    {
     "data": {
      "application/vnd.jupyter.widget-view+json": {
       "model_id": "ea86f54605dc432c802a925b33ea5698",
       "version_major": 2,
       "version_minor": 0
      },
      "text/plain": "Training:   0%|          | 0/118 [00:00<?, ?it/s]"
     },
     "metadata": {},
     "output_type": "display_data"
    },
    {
     "data": {
      "application/vnd.jupyter.widget-view+json": {
       "model_id": "fdff53a28d52413aa0afff39cc307080",
       "version_major": 2,
       "version_minor": 0
      },
      "text/plain": "Training:   0%|          | 0/118 [00:00<?, ?it/s]"
     },
     "metadata": {},
     "output_type": "display_data"
    },
    {
     "data": {
      "application/vnd.jupyter.widget-view+json": {
       "model_id": "79b8b71ae0e94657b1aa301c57eae641",
       "version_major": 2,
       "version_minor": 0
      },
      "text/plain": "Training:   0%|          | 0/118 [00:00<?, ?it/s]"
     },
     "metadata": {},
     "output_type": "display_data"
    },
    {
     "name": "stdout",
     "output_type": "stream",
     "text": [
      "epoch # 11\ttrain_loss: 6.94e-03\tmodel_acc: {'accuracy': 0.4457831325301205}\n",
      "\n"
     ]
    },
    {
     "data": {
      "application/vnd.jupyter.widget-view+json": {
       "model_id": "2729b74daad9466888b8f543b1b5b597",
       "version_major": 2,
       "version_minor": 0
      },
      "text/plain": "Training:   0%|          | 0/118 [00:00<?, ?it/s]"
     },
     "metadata": {},
     "output_type": "display_data"
    },
    {
     "data": {
      "application/vnd.jupyter.widget-view+json": {
       "model_id": "012be323eef544b6b8bf32dbe81b4b43",
       "version_major": 2,
       "version_minor": 0
      },
      "text/plain": "Training:   0%|          | 0/118 [00:00<?, ?it/s]"
     },
     "metadata": {},
     "output_type": "display_data"
    },
    {
     "data": {
      "application/vnd.jupyter.widget-view+json": {
       "model_id": "bf86547c29e7442d995603d7eb211f4b",
       "version_major": 2,
       "version_minor": 0
      },
      "text/plain": "Training:   0%|          | 0/118 [00:00<?, ?it/s]"
     },
     "metadata": {},
     "output_type": "display_data"
    },
    {
     "data": {
      "application/vnd.jupyter.widget-view+json": {
       "model_id": "42f4daa2ce95458395e4aade5411b867",
       "version_major": 2,
       "version_minor": 0
      },
      "text/plain": "Training:   0%|          | 0/118 [00:00<?, ?it/s]"
     },
     "metadata": {},
     "output_type": "display_data"
    },
    {
     "data": {
      "application/vnd.jupyter.widget-view+json": {
       "model_id": "072a6caff4c34827ac497797be9a8a85",
       "version_major": 2,
       "version_minor": 0
      },
      "text/plain": "Training:   0%|          | 0/118 [00:00<?, ?it/s]"
     },
     "metadata": {},
     "output_type": "display_data"
    },
    {
     "data": {
      "application/vnd.jupyter.widget-view+json": {
       "model_id": "2de25183c3b442ea859a056cdc6682a8",
       "version_major": 2,
       "version_minor": 0
      },
      "text/plain": "Training:   0%|          | 0/118 [00:00<?, ?it/s]"
     },
     "metadata": {},
     "output_type": "display_data"
    },
    {
     "data": {
      "application/vnd.jupyter.widget-view+json": {
       "model_id": "3b1fc732d1bc40a99172726366dc4b9a",
       "version_major": 2,
       "version_minor": 0
      },
      "text/plain": "Training:   0%|          | 0/118 [00:00<?, ?it/s]"
     },
     "metadata": {},
     "output_type": "display_data"
    },
    {
     "data": {
      "application/vnd.jupyter.widget-view+json": {
       "model_id": "11cf523b2a064501829ed42ac74fcb8e",
       "version_major": 2,
       "version_minor": 0
      },
      "text/plain": "Training:   0%|          | 0/118 [00:00<?, ?it/s]"
     },
     "metadata": {},
     "output_type": "display_data"
    },
    {
     "data": {
      "application/vnd.jupyter.widget-view+json": {
       "model_id": "def922eb018145abb14ef3f177f8266a",
       "version_major": 2,
       "version_minor": 0
      },
      "text/plain": "Training:   0%|          | 0/118 [00:00<?, ?it/s]"
     },
     "metadata": {},
     "output_type": "display_data"
    },
    {
     "data": {
      "application/vnd.jupyter.widget-view+json": {
       "model_id": "a1781b4200ba40418e2e3788d0c779ed",
       "version_major": 2,
       "version_minor": 0
      },
      "text/plain": "Training:   0%|          | 0/118 [00:00<?, ?it/s]"
     },
     "metadata": {},
     "output_type": "display_data"
    },
    {
     "name": "stdout",
     "output_type": "stream",
     "text": [
      "epoch # 21\ttrain_loss: 6.94e-03\tmodel_acc: {'accuracy': 0.5180722891566265}\n",
      "\n"
     ]
    },
    {
     "data": {
      "application/vnd.jupyter.widget-view+json": {
       "model_id": "46dd179ecb6d483c89d98eac3f866142",
       "version_major": 2,
       "version_minor": 0
      },
      "text/plain": "Training:   0%|          | 0/118 [00:00<?, ?it/s]"
     },
     "metadata": {},
     "output_type": "display_data"
    },
    {
     "data": {
      "application/vnd.jupyter.widget-view+json": {
       "model_id": "93b3a807a3cb4c4686bdd00b26b8c912",
       "version_major": 2,
       "version_minor": 0
      },
      "text/plain": "Training:   0%|          | 0/118 [00:00<?, ?it/s]"
     },
     "metadata": {},
     "output_type": "display_data"
    },
    {
     "data": {
      "application/vnd.jupyter.widget-view+json": {
       "model_id": "ff1947ef305b4eb59ac342d433731eaa",
       "version_major": 2,
       "version_minor": 0
      },
      "text/plain": "Training:   0%|          | 0/118 [00:00<?, ?it/s]"
     },
     "metadata": {},
     "output_type": "display_data"
    },
    {
     "data": {
      "application/vnd.jupyter.widget-view+json": {
       "model_id": "0893e5119d944893bfb3abe6fa2fccca",
       "version_major": 2,
       "version_minor": 0
      },
      "text/plain": "Training:   0%|          | 0/118 [00:00<?, ?it/s]"
     },
     "metadata": {},
     "output_type": "display_data"
    },
    {
     "data": {
      "application/vnd.jupyter.widget-view+json": {
       "model_id": "508061cc03304a28b86d5738e44e57b9",
       "version_major": 2,
       "version_minor": 0
      },
      "text/plain": "Training:   0%|          | 0/118 [00:00<?, ?it/s]"
     },
     "metadata": {},
     "output_type": "display_data"
    },
    {
     "data": {
      "application/vnd.jupyter.widget-view+json": {
       "model_id": "8c243b554141421eb981200447a57111",
       "version_major": 2,
       "version_minor": 0
      },
      "text/plain": "Training:   0%|          | 0/118 [00:00<?, ?it/s]"
     },
     "metadata": {},
     "output_type": "display_data"
    },
    {
     "data": {
      "application/vnd.jupyter.widget-view+json": {
       "model_id": "1e74c3ef8cc445b68221130b2a2604b6",
       "version_major": 2,
       "version_minor": 0
      },
      "text/plain": "Training:   0%|          | 0/118 [00:00<?, ?it/s]"
     },
     "metadata": {},
     "output_type": "display_data"
    },
    {
     "data": {
      "application/vnd.jupyter.widget-view+json": {
       "model_id": "07460e47948b495382c62767935a0344",
       "version_major": 2,
       "version_minor": 0
      },
      "text/plain": "Training:   0%|          | 0/118 [00:00<?, ?it/s]"
     },
     "metadata": {},
     "output_type": "display_data"
    },
    {
     "data": {
      "application/vnd.jupyter.widget-view+json": {
       "model_id": "d6b9eae9778f46a0af4b212b0102cfce",
       "version_major": 2,
       "version_minor": 0
      },
      "text/plain": "Training:   0%|          | 0/118 [00:00<?, ?it/s]"
     },
     "metadata": {},
     "output_type": "display_data"
    },
    {
     "data": {
      "application/vnd.jupyter.widget-view+json": {
       "model_id": "23b0aca3b4904bd087d224c0034d3089",
       "version_major": 2,
       "version_minor": 0
      },
      "text/plain": "Training:   0%|          | 0/118 [00:00<?, ?it/s]"
     },
     "metadata": {},
     "output_type": "display_data"
    },
    {
     "name": "stdout",
     "output_type": "stream",
     "text": [
      "epoch # 31\ttrain_loss: 6.94e-03\tmodel_acc: {'accuracy': 0.5301204819277109}\n",
      "\n"
     ]
    },
    {
     "data": {
      "application/vnd.jupyter.widget-view+json": {
       "model_id": "845c42d1e565469eb3f6d31614f8a38e",
       "version_major": 2,
       "version_minor": 0
      },
      "text/plain": "Training:   0%|          | 0/118 [00:00<?, ?it/s]"
     },
     "metadata": {},
     "output_type": "display_data"
    },
    {
     "data": {
      "application/vnd.jupyter.widget-view+json": {
       "model_id": "58a21676a83f40b09575eafa4d9f8f6c",
       "version_major": 2,
       "version_minor": 0
      },
      "text/plain": "Training:   0%|          | 0/118 [00:00<?, ?it/s]"
     },
     "metadata": {},
     "output_type": "display_data"
    },
    {
     "data": {
      "application/vnd.jupyter.widget-view+json": {
       "model_id": "ad989dd796774dd6b9bc88d378a4d72f",
       "version_major": 2,
       "version_minor": 0
      },
      "text/plain": "Training:   0%|          | 0/118 [00:00<?, ?it/s]"
     },
     "metadata": {},
     "output_type": "display_data"
    },
    {
     "data": {
      "application/vnd.jupyter.widget-view+json": {
       "model_id": "8f930919002c4d28bfae6eb9ed3f7a0b",
       "version_major": 2,
       "version_minor": 0
      },
      "text/plain": "Training:   0%|          | 0/118 [00:00<?, ?it/s]"
     },
     "metadata": {},
     "output_type": "display_data"
    },
    {
     "data": {
      "application/vnd.jupyter.widget-view+json": {
       "model_id": "737d5cbf7aab47d7b232638e7d055e91",
       "version_major": 2,
       "version_minor": 0
      },
      "text/plain": "Training:   0%|          | 0/118 [00:00<?, ?it/s]"
     },
     "metadata": {},
     "output_type": "display_data"
    },
    {
     "data": {
      "application/vnd.jupyter.widget-view+json": {
       "model_id": "2a5f0dada2e749a899ec008602eff8d5",
       "version_major": 2,
       "version_minor": 0
      },
      "text/plain": "Training:   0%|          | 0/118 [00:00<?, ?it/s]"
     },
     "metadata": {},
     "output_type": "display_data"
    },
    {
     "data": {
      "application/vnd.jupyter.widget-view+json": {
       "model_id": "f74f78c2733e4685a4b18fc6ddbc7bf0",
       "version_major": 2,
       "version_minor": 0
      },
      "text/plain": "Training:   0%|          | 0/118 [00:00<?, ?it/s]"
     },
     "metadata": {},
     "output_type": "display_data"
    },
    {
     "data": {
      "application/vnd.jupyter.widget-view+json": {
       "model_id": "f62c4475e23849439b47ad3b368f66dd",
       "version_major": 2,
       "version_minor": 0
      },
      "text/plain": "Training:   0%|          | 0/118 [00:00<?, ?it/s]"
     },
     "metadata": {},
     "output_type": "display_data"
    },
    {
     "data": {
      "application/vnd.jupyter.widget-view+json": {
       "model_id": "6994b4dd0172456ca86a330f4078a3c8",
       "version_major": 2,
       "version_minor": 0
      },
      "text/plain": "Training:   0%|          | 0/118 [00:00<?, ?it/s]"
     },
     "metadata": {},
     "output_type": "display_data"
    },
    {
     "data": {
      "application/vnd.jupyter.widget-view+json": {
       "model_id": "1409d6a51bc54db695d139d356aa18c5",
       "version_major": 2,
       "version_minor": 0
      },
      "text/plain": "Training:   0%|          | 0/118 [00:00<?, ?it/s]"
     },
     "metadata": {},
     "output_type": "display_data"
    },
    {
     "name": "stdout",
     "output_type": "stream",
     "text": [
      "epoch # 41\ttrain_loss: 6.94e-03\tmodel_acc: {'accuracy': 0.5180722891566265}\n",
      "\n"
     ]
    },
    {
     "data": {
      "application/vnd.jupyter.widget-view+json": {
       "model_id": "a3a105ff78e84ec687a35bed11498c84",
       "version_major": 2,
       "version_minor": 0
      },
      "text/plain": "Training:   0%|          | 0/118 [00:00<?, ?it/s]"
     },
     "metadata": {},
     "output_type": "display_data"
    },
    {
     "data": {
      "application/vnd.jupyter.widget-view+json": {
       "model_id": "beba59d32a0046c5b19eb6dda25a7012",
       "version_major": 2,
       "version_minor": 0
      },
      "text/plain": "Training:   0%|          | 0/118 [00:00<?, ?it/s]"
     },
     "metadata": {},
     "output_type": "display_data"
    },
    {
     "data": {
      "application/vnd.jupyter.widget-view+json": {
       "model_id": "5d179b78c040411f85681a61b3118e3e",
       "version_major": 2,
       "version_minor": 0
      },
      "text/plain": "Training:   0%|          | 0/118 [00:00<?, ?it/s]"
     },
     "metadata": {},
     "output_type": "display_data"
    },
    {
     "data": {
      "application/vnd.jupyter.widget-view+json": {
       "model_id": "559fbd543c4044a8aa7b24bbfbfd0a4b",
       "version_major": 2,
       "version_minor": 0
      },
      "text/plain": "Training:   0%|          | 0/118 [00:00<?, ?it/s]"
     },
     "metadata": {},
     "output_type": "display_data"
    },
    {
     "data": {
      "application/vnd.jupyter.widget-view+json": {
       "model_id": "d9ecf986e6bc4086a64d2c4ca6c8ee64",
       "version_major": 2,
       "version_minor": 0
      },
      "text/plain": "Training:   0%|          | 0/118 [00:00<?, ?it/s]"
     },
     "metadata": {},
     "output_type": "display_data"
    },
    {
     "data": {
      "application/vnd.jupyter.widget-view+json": {
       "model_id": "c806a4ab9bb74609a31ead7d3ce2e495",
       "version_major": 2,
       "version_minor": 0
      },
      "text/plain": "Training:   0%|          | 0/118 [00:00<?, ?it/s]"
     },
     "metadata": {},
     "output_type": "display_data"
    },
    {
     "data": {
      "application/vnd.jupyter.widget-view+json": {
       "model_id": "90f7d68a1bb04c17a365371ef91ce14e",
       "version_major": 2,
       "version_minor": 0
      },
      "text/plain": "Training:   0%|          | 0/118 [00:00<?, ?it/s]"
     },
     "metadata": {},
     "output_type": "display_data"
    },
    {
     "data": {
      "application/vnd.jupyter.widget-view+json": {
       "model_id": "883b7ae281014c97a4fe2dd89b6e8d32",
       "version_major": 2,
       "version_minor": 0
      },
      "text/plain": "Training:   0%|          | 0/118 [00:00<?, ?it/s]"
     },
     "metadata": {},
     "output_type": "display_data"
    },
    {
     "data": {
      "application/vnd.jupyter.widget-view+json": {
       "model_id": "2499429f1461424089e6781929137757",
       "version_major": 2,
       "version_minor": 0
      },
      "text/plain": "Training:   0%|          | 0/118 [00:00<?, ?it/s]"
     },
     "metadata": {},
     "output_type": "display_data"
    },
    {
     "data": {
      "application/vnd.jupyter.widget-view+json": {
       "model_id": "834bf18fa1344484999e349e4751f772",
       "version_major": 2,
       "version_minor": 0
      },
      "text/plain": "Training:   0%|          | 0/118 [00:00<?, ?it/s]"
     },
     "metadata": {},
     "output_type": "display_data"
    },
    {
     "name": "stdout",
     "output_type": "stream",
     "text": [
      "epoch # 51\ttrain_loss: 6.94e-03\tmodel_acc: {'accuracy': 0.5542168674698795}\n",
      "\n"
     ]
    },
    {
     "data": {
      "application/vnd.jupyter.widget-view+json": {
       "model_id": "f8a3ff9864ea4f47b952d5a535ec6698",
       "version_major": 2,
       "version_minor": 0
      },
      "text/plain": "Training:   0%|          | 0/118 [00:00<?, ?it/s]"
     },
     "metadata": {},
     "output_type": "display_data"
    },
    {
     "data": {
      "application/vnd.jupyter.widget-view+json": {
       "model_id": "4ecf51ad789c48a28c49e3fda73cd833",
       "version_major": 2,
       "version_minor": 0
      },
      "text/plain": "Training:   0%|          | 0/118 [00:00<?, ?it/s]"
     },
     "metadata": {},
     "output_type": "display_data"
    },
    {
     "data": {
      "application/vnd.jupyter.widget-view+json": {
       "model_id": "27ffe60a59f84ce98195d4a366c9da34",
       "version_major": 2,
       "version_minor": 0
      },
      "text/plain": "Training:   0%|          | 0/118 [00:00<?, ?it/s]"
     },
     "metadata": {},
     "output_type": "display_data"
    },
    {
     "data": {
      "application/vnd.jupyter.widget-view+json": {
       "model_id": "f5e06d5cb2b7446dac3d49dbafcfbd6e",
       "version_major": 2,
       "version_minor": 0
      },
      "text/plain": "Training:   0%|          | 0/118 [00:00<?, ?it/s]"
     },
     "metadata": {},
     "output_type": "display_data"
    },
    {
     "data": {
      "application/vnd.jupyter.widget-view+json": {
       "model_id": "92989a05dd6a4760a3a16c94ccf212bc",
       "version_major": 2,
       "version_minor": 0
      },
      "text/plain": "Training:   0%|          | 0/118 [00:00<?, ?it/s]"
     },
     "metadata": {},
     "output_type": "display_data"
    },
    {
     "data": {
      "application/vnd.jupyter.widget-view+json": {
       "model_id": "c6a0c4fa155b4d0ca0c5ccdc39ccdda4",
       "version_major": 2,
       "version_minor": 0
      },
      "text/plain": "Training:   0%|          | 0/118 [00:00<?, ?it/s]"
     },
     "metadata": {},
     "output_type": "display_data"
    },
    {
     "data": {
      "application/vnd.jupyter.widget-view+json": {
       "model_id": "3fb45dc8d653451dbf29d00c802083e1",
       "version_major": 2,
       "version_minor": 0
      },
      "text/plain": "Training:   0%|          | 0/118 [00:00<?, ?it/s]"
     },
     "metadata": {},
     "output_type": "display_data"
    },
    {
     "data": {
      "application/vnd.jupyter.widget-view+json": {
       "model_id": "9ba9122f85304f48b519c0e0b542dc95",
       "version_major": 2,
       "version_minor": 0
      },
      "text/plain": "Training:   0%|          | 0/118 [00:00<?, ?it/s]"
     },
     "metadata": {},
     "output_type": "display_data"
    },
    {
     "data": {
      "application/vnd.jupyter.widget-view+json": {
       "model_id": "dc2b40bf53084886a4858e9627e4ad5d",
       "version_major": 2,
       "version_minor": 0
      },
      "text/plain": "Training:   0%|          | 0/118 [00:00<?, ?it/s]"
     },
     "metadata": {},
     "output_type": "display_data"
    },
    {
     "data": {
      "application/vnd.jupyter.widget-view+json": {
       "model_id": "83216f021328402e834294dc6ff7a366",
       "version_major": 2,
       "version_minor": 0
      },
      "text/plain": "Training:   0%|          | 0/118 [00:00<?, ?it/s]"
     },
     "metadata": {},
     "output_type": "display_data"
    },
    {
     "name": "stdout",
     "output_type": "stream",
     "text": [
      "epoch # 61\ttrain_loss: 6.94e-03\tmodel_acc: {'accuracy': 0.43373493975903615}\n",
      "\n"
     ]
    },
    {
     "data": {
      "application/vnd.jupyter.widget-view+json": {
       "model_id": "fa032610fb9c4b97b98e6fc1d57563be",
       "version_major": 2,
       "version_minor": 0
      },
      "text/plain": "Training:   0%|          | 0/118 [00:00<?, ?it/s]"
     },
     "metadata": {},
     "output_type": "display_data"
    },
    {
     "data": {
      "application/vnd.jupyter.widget-view+json": {
       "model_id": "29bd2cdd9fb74063b562277d7ee4a81b",
       "version_major": 2,
       "version_minor": 0
      },
      "text/plain": "Training:   0%|          | 0/118 [00:00<?, ?it/s]"
     },
     "metadata": {},
     "output_type": "display_data"
    },
    {
     "data": {
      "application/vnd.jupyter.widget-view+json": {
       "model_id": "d3d5e72a762e433991231f154baceece",
       "version_major": 2,
       "version_minor": 0
      },
      "text/plain": "Training:   0%|          | 0/118 [00:00<?, ?it/s]"
     },
     "metadata": {},
     "output_type": "display_data"
    },
    {
     "data": {
      "application/vnd.jupyter.widget-view+json": {
       "model_id": "d25de37b7c6241ebbedaec76b43e3a5f",
       "version_major": 2,
       "version_minor": 0
      },
      "text/plain": "Training:   0%|          | 0/118 [00:00<?, ?it/s]"
     },
     "metadata": {},
     "output_type": "display_data"
    },
    {
     "data": {
      "application/vnd.jupyter.widget-view+json": {
       "model_id": "094f8727236549209326ce9ca7ceccda",
       "version_major": 2,
       "version_minor": 0
      },
      "text/plain": "Training:   0%|          | 0/118 [00:00<?, ?it/s]"
     },
     "metadata": {},
     "output_type": "display_data"
    },
    {
     "data": {
      "application/vnd.jupyter.widget-view+json": {
       "model_id": "cba9d91912c84e539a742486849b6a1f",
       "version_major": 2,
       "version_minor": 0
      },
      "text/plain": "Training:   0%|          | 0/118 [00:00<?, ?it/s]"
     },
     "metadata": {},
     "output_type": "display_data"
    },
    {
     "data": {
      "application/vnd.jupyter.widget-view+json": {
       "model_id": "5ea4b30e039e400d910a1884c98a6017",
       "version_major": 2,
       "version_minor": 0
      },
      "text/plain": "Training:   0%|          | 0/118 [00:00<?, ?it/s]"
     },
     "metadata": {},
     "output_type": "display_data"
    },
    {
     "data": {
      "application/vnd.jupyter.widget-view+json": {
       "model_id": "908af62b3ada4cbf8dcc807283bfa146",
       "version_major": 2,
       "version_minor": 0
      },
      "text/plain": "Training:   0%|          | 0/118 [00:00<?, ?it/s]"
     },
     "metadata": {},
     "output_type": "display_data"
    },
    {
     "data": {
      "application/vnd.jupyter.widget-view+json": {
       "model_id": "94fb07bf04ea434c82488449b94efcf1",
       "version_major": 2,
       "version_minor": 0
      },
      "text/plain": "Training:   0%|          | 0/118 [00:00<?, ?it/s]"
     },
     "metadata": {},
     "output_type": "display_data"
    },
    {
     "data": {
      "application/vnd.jupyter.widget-view+json": {
       "model_id": "68052552c4fa43f5aea8c4f18a7d2bd9",
       "version_major": 2,
       "version_minor": 0
      },
      "text/plain": "Training:   0%|          | 0/118 [00:00<?, ?it/s]"
     },
     "metadata": {},
     "output_type": "display_data"
    },
    {
     "name": "stdout",
     "output_type": "stream",
     "text": [
      "epoch # 71\ttrain_loss: 6.94e-03\tmodel_acc: {'accuracy': 0.4457831325301205}\n",
      "\n"
     ]
    },
    {
     "data": {
      "application/vnd.jupyter.widget-view+json": {
       "model_id": "d40164c8caf6440e8d8c5c8a48cce124",
       "version_major": 2,
       "version_minor": 0
      },
      "text/plain": "Training:   0%|          | 0/118 [00:00<?, ?it/s]"
     },
     "metadata": {},
     "output_type": "display_data"
    },
    {
     "data": {
      "application/vnd.jupyter.widget-view+json": {
       "model_id": "e5cadf75984a4ee996a14d6880b4ab01",
       "version_major": 2,
       "version_minor": 0
      },
      "text/plain": "Training:   0%|          | 0/118 [00:00<?, ?it/s]"
     },
     "metadata": {},
     "output_type": "display_data"
    },
    {
     "data": {
      "application/vnd.jupyter.widget-view+json": {
       "model_id": "7be6fe7a97ae4132bb4045e47a4840d2",
       "version_major": 2,
       "version_minor": 0
      },
      "text/plain": "Training:   0%|          | 0/118 [00:00<?, ?it/s]"
     },
     "metadata": {},
     "output_type": "display_data"
    },
    {
     "data": {
      "application/vnd.jupyter.widget-view+json": {
       "model_id": "04e5b06f2ce4460fbdff017b1231b3eb",
       "version_major": 2,
       "version_minor": 0
      },
      "text/plain": "Training:   0%|          | 0/118 [00:00<?, ?it/s]"
     },
     "metadata": {},
     "output_type": "display_data"
    },
    {
     "data": {
      "application/vnd.jupyter.widget-view+json": {
       "model_id": "f10d0c1e3bb6415a83d4f8cdca1e0844",
       "version_major": 2,
       "version_minor": 0
      },
      "text/plain": "Training:   0%|          | 0/118 [00:00<?, ?it/s]"
     },
     "metadata": {},
     "output_type": "display_data"
    },
    {
     "data": {
      "application/vnd.jupyter.widget-view+json": {
       "model_id": "27d823d340b64142b93c478d0f99ee61",
       "version_major": 2,
       "version_minor": 0
      },
      "text/plain": "Training:   0%|          | 0/118 [00:00<?, ?it/s]"
     },
     "metadata": {},
     "output_type": "display_data"
    },
    {
     "data": {
      "application/vnd.jupyter.widget-view+json": {
       "model_id": "5c45e20a68d14ab59c98f88553611ee0",
       "version_major": 2,
       "version_minor": 0
      },
      "text/plain": "Training:   0%|          | 0/118 [00:00<?, ?it/s]"
     },
     "metadata": {},
     "output_type": "display_data"
    },
    {
     "data": {
      "application/vnd.jupyter.widget-view+json": {
       "model_id": "02e5b61a6fe14ae0b470a90d1a1e66f7",
       "version_major": 2,
       "version_minor": 0
      },
      "text/plain": "Training:   0%|          | 0/118 [00:00<?, ?it/s]"
     },
     "metadata": {},
     "output_type": "display_data"
    },
    {
     "data": {
      "application/vnd.jupyter.widget-view+json": {
       "model_id": "7f3e42d4034c4106979037521b25e6f0",
       "version_major": 2,
       "version_minor": 0
      },
      "text/plain": "Training:   0%|          | 0/118 [00:00<?, ?it/s]"
     },
     "metadata": {},
     "output_type": "display_data"
    },
    {
     "data": {
      "application/vnd.jupyter.widget-view+json": {
       "model_id": "4168d87026e64d148996838008d880c0",
       "version_major": 2,
       "version_minor": 0
      },
      "text/plain": "Training:   0%|          | 0/118 [00:00<?, ?it/s]"
     },
     "metadata": {},
     "output_type": "display_data"
    },
    {
     "name": "stdout",
     "output_type": "stream",
     "text": [
      "epoch # 81\ttrain_loss: 6.94e-03\tmodel_acc: {'accuracy': 0.5903614457831325}\n",
      "\n"
     ]
    },
    {
     "data": {
      "application/vnd.jupyter.widget-view+json": {
       "model_id": "ffb163bdcae344cfb6d403ba459d9bc7",
       "version_major": 2,
       "version_minor": 0
      },
      "text/plain": "Training:   0%|          | 0/118 [00:00<?, ?it/s]"
     },
     "metadata": {},
     "output_type": "display_data"
    },
    {
     "data": {
      "application/vnd.jupyter.widget-view+json": {
       "model_id": "76f2b90fdfa6425abaa150a4e6d55221",
       "version_major": 2,
       "version_minor": 0
      },
      "text/plain": "Training:   0%|          | 0/118 [00:00<?, ?it/s]"
     },
     "metadata": {},
     "output_type": "display_data"
    },
    {
     "data": {
      "application/vnd.jupyter.widget-view+json": {
       "model_id": "b24e92ad07a5431abd35c74144c18d3e",
       "version_major": 2,
       "version_minor": 0
      },
      "text/plain": "Training:   0%|          | 0/118 [00:00<?, ?it/s]"
     },
     "metadata": {},
     "output_type": "display_data"
    },
    {
     "data": {
      "application/vnd.jupyter.widget-view+json": {
       "model_id": "0f15a0daadb84fb9a6fe4b47e151148f",
       "version_major": 2,
       "version_minor": 0
      },
      "text/plain": "Training:   0%|          | 0/118 [00:00<?, ?it/s]"
     },
     "metadata": {},
     "output_type": "display_data"
    },
    {
     "data": {
      "application/vnd.jupyter.widget-view+json": {
       "model_id": "3a60b3b048a54bae8164a224a851c570",
       "version_major": 2,
       "version_minor": 0
      },
      "text/plain": "Training:   0%|          | 0/118 [00:00<?, ?it/s]"
     },
     "metadata": {},
     "output_type": "display_data"
    },
    {
     "data": {
      "application/vnd.jupyter.widget-view+json": {
       "model_id": "0c24755a976a4d99a7a2f9bd1d57c29f",
       "version_major": 2,
       "version_minor": 0
      },
      "text/plain": "Training:   0%|          | 0/118 [00:00<?, ?it/s]"
     },
     "metadata": {},
     "output_type": "display_data"
    },
    {
     "data": {
      "application/vnd.jupyter.widget-view+json": {
       "model_id": "dcc470b2f41742cb89e731bf04c29510",
       "version_major": 2,
       "version_minor": 0
      },
      "text/plain": "Training:   0%|          | 0/118 [00:00<?, ?it/s]"
     },
     "metadata": {},
     "output_type": "display_data"
    },
    {
     "data": {
      "application/vnd.jupyter.widget-view+json": {
       "model_id": "3e885f6c190a415fb71a389de37e63a0",
       "version_major": 2,
       "version_minor": 0
      },
      "text/plain": "Training:   0%|          | 0/118 [00:00<?, ?it/s]"
     },
     "metadata": {},
     "output_type": "display_data"
    },
    {
     "data": {
      "application/vnd.jupyter.widget-view+json": {
       "model_id": "4a4996350f5c422abe40fb4c60c91090",
       "version_major": 2,
       "version_minor": 0
      },
      "text/plain": "Training:   0%|          | 0/118 [00:00<?, ?it/s]"
     },
     "metadata": {},
     "output_type": "display_data"
    },
    {
     "data": {
      "application/vnd.jupyter.widget-view+json": {
       "model_id": "49257753ca484faeab9c83a0bd58b4c0",
       "version_major": 2,
       "version_minor": 0
      },
      "text/plain": "Training:   0%|          | 0/118 [00:00<?, ?it/s]"
     },
     "metadata": {},
     "output_type": "display_data"
    },
    {
     "name": "stdout",
     "output_type": "stream",
     "text": [
      "epoch # 91\ttrain_loss: 6.94e-03\tmodel_acc: {'accuracy': 0.42168674698795183}\n",
      "\n"
     ]
    },
    {
     "data": {
      "application/vnd.jupyter.widget-view+json": {
       "model_id": "36b0b31e24974257813cc4cdf5fda2df",
       "version_major": 2,
       "version_minor": 0
      },
      "text/plain": "Training:   0%|          | 0/118 [00:00<?, ?it/s]"
     },
     "metadata": {},
     "output_type": "display_data"
    },
    {
     "data": {
      "application/vnd.jupyter.widget-view+json": {
       "model_id": "35c5eebb4550426186708323ce3de747",
       "version_major": 2,
       "version_minor": 0
      },
      "text/plain": "Training:   0%|          | 0/118 [00:00<?, ?it/s]"
     },
     "metadata": {},
     "output_type": "display_data"
    },
    {
     "data": {
      "application/vnd.jupyter.widget-view+json": {
       "model_id": "e0e6ac816ca34d47ac8a0d24cf64409e",
       "version_major": 2,
       "version_minor": 0
      },
      "text/plain": "Training:   0%|          | 0/118 [00:00<?, ?it/s]"
     },
     "metadata": {},
     "output_type": "display_data"
    },
    {
     "data": {
      "application/vnd.jupyter.widget-view+json": {
       "model_id": "c4c29a1f00ca4b339d3d4c11c0350502",
       "version_major": 2,
       "version_minor": 0
      },
      "text/plain": "Training:   0%|          | 0/118 [00:00<?, ?it/s]"
     },
     "metadata": {},
     "output_type": "display_data"
    },
    {
     "data": {
      "application/vnd.jupyter.widget-view+json": {
       "model_id": "615fbed57f9443a19e291b6463f2f5f6",
       "version_major": 2,
       "version_minor": 0
      },
      "text/plain": "Training:   0%|          | 0/118 [00:00<?, ?it/s]"
     },
     "metadata": {},
     "output_type": "display_data"
    },
    {
     "data": {
      "application/vnd.jupyter.widget-view+json": {
       "model_id": "f73202f41fee4cf4a567d8a7d84a0e7b",
       "version_major": 2,
       "version_minor": 0
      },
      "text/plain": "Training:   0%|          | 0/118 [00:00<?, ?it/s]"
     },
     "metadata": {},
     "output_type": "display_data"
    },
    {
     "data": {
      "application/vnd.jupyter.widget-view+json": {
       "model_id": "87c52c5a9864426cb0001a823146dc2b",
       "version_major": 2,
       "version_minor": 0
      },
      "text/plain": "Training:   0%|          | 0/118 [00:00<?, ?it/s]"
     },
     "metadata": {},
     "output_type": "display_data"
    },
    {
     "data": {
      "application/vnd.jupyter.widget-view+json": {
       "model_id": "1cf8dd4e94f646b5a5d46006730ee452",
       "version_major": 2,
       "version_minor": 0
      },
      "text/plain": "Training:   0%|          | 0/118 [00:00<?, ?it/s]"
     },
     "metadata": {},
     "output_type": "display_data"
    },
    {
     "data": {
      "application/vnd.jupyter.widget-view+json": {
       "model_id": "7e5d5dc50a834c77b932c5b453a63db1",
       "version_major": 2,
       "version_minor": 0
      },
      "text/plain": "Training:   0%|          | 0/118 [00:00<?, ?it/s]"
     },
     "metadata": {},
     "output_type": "display_data"
    }
   ],
   "source": [
    "model.train()\r\n",
    "i=0\r\n",
    "for epoch in tqdm(range(100)):\r\n",
    "    total_loss = total = 0\r\n",
    "    progress_bar = tqdm(train_loader, desc='Training', leave=False,total=len(train_loader))\r\n",
    "    for inputs, targets, lengths in progress_bar:\r\n",
    "        # Clean old gradients\r\n",
    "        optimizer.zero_grad()\r\n",
    "\r\n",
    "        # Forwards pass\r\n",
    "        loss,metric_ = model(inputs, targets, lengths)\r\n",
    "        # print(inputs[:,-1])\r\n",
    "        # Perform gradient descent, backwards pass\r\n",
    "        # break\r\n",
    "        loss.backward()\r\n",
    "\r\n",
    "        # Take a step in the right direction\r\n",
    "        optimizer.step()\r\n",
    "\r\n",
    "        # Record metrics\r\n",
    "        total_loss += loss\r\n",
    "        total += targets.size(0)\r\n",
    "\r\n",
    "    train_loss = total_loss / total\r\n",
    "    if i%10==0:\r\n",
    "        tqdm.write(f'epoch #{epoch + 1:3d}\\ttrain_loss: {train_loss:.2e}\\tmodel_acc: {metric_}\\n')\r\n",
    "    i=i+1"
   ]
  },
  {
   "cell_type": "code",
   "execution_count": 22,
   "metadata": {},
   "outputs": [],
   "source": [
    "from no_toxicity.src.preprocessing.cleaning import Dfcleaner\r\n",
    "def collate_pred(batch):\r\n",
    "    pred_input=torch.LongTensor(batch)\r\n",
    "    return pred_input.to(device)\r\n",
    "\r\n",
    "def predict(raw_text):\r\n",
    "    cleaner=Dfcleaner()\r\n",
    "    cleaned_text=cleaner.clean(raw_text,stem=False,is_prediction=True)\r\n",
    "    cleaned_text=cleaned_text[0]\r\n",
    "    tokenized_text=dataset.tokenize(cleaned_text)\r\n",
    "    encode = lambda x: [dataset.token2idx_inputs[token] for token in tokenized_text if token in dataset.token2idx_inputs]  \r\n",
    "    encoded_text=encode(tokenized_text) \r\n",
    "    encoded_text=[encoded_text]\r\n",
    "    test_loader = DataLoader(encoded_text, batch_size=1, collate_fn=collate_pred,shuffle=True)\r\n",
    "    model.eval()\r\n",
    "    with torch.no_grad():\r\n",
    "        for inputs in test_loader:\r\n",
    "            output=model.predict(inputs)\r\n",
    "            \r\n",
    "            print(output)\r\n",
    "    "
   ]
  },
  {
   "cell_type": "code",
   "execution_count": 70,
   "metadata": {},
   "outputs": [
    {
     "name": "stdout",
     "output_type": "stream",
     "text": [
      "['not_toxic']\n"
     ]
    }
   ],
   "source": [
    "raw_text=[\"this a non toxic sentence\"]\r\n",
    "predict(raw_text)"
   ]
  },
  {
   "cell_type": "code",
   "execution_count": 46,
   "metadata": {},
   "outputs": [
    {
     "name": "stdout",
     "output_type": "stream",
     "text": [
      "['toxic', 'insult']\n"
     ]
    }
   ],
   "source": [
    "raw_text=[\"This man is a retard\"]\r\n",
    "predict(raw_text)"
   ]
  },
  {
   "cell_type": "code",
   "execution_count": null,
   "metadata": {},
   "outputs": [],
   "source": []
  }
 ],
 "metadata": {
  "kernelspec": {
   "display_name": "Python 3.8.8 64-bit",
   "name": "python388jvsc74a57bd07f3de5096ca57544369bb14db0d707c452af519be01e653fe2c6b8aa83f4de32"
  },
  "language_info": {
   "codemirror_mode": {
    "name": "ipython",
    "version": 3
   },
   "file_extension": ".py",
   "mimetype": "text/x-python",
   "name": "python",
   "nbconvert_exporter": "python",
   "pygments_lexer": "ipython3",
   "version": "3.8.8"
  },
  "metadata": {
   "interpreter": {
    "hash": "7f3de5096ca57544369bb14db0d707c452af519be01e653fe2c6b8aa83f4de32"
   }
  },
  "orig_nbformat": 2
 },
 "nbformat": 4,
 "nbformat_minor": 2
}