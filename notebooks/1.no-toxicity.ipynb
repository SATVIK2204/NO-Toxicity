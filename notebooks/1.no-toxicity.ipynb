{
 "cells": [
  {
   "cell_type": "code",
   "execution_count": 1,
   "metadata": {},
   "outputs": [],
   "source": [
    "import pandas as pd\r\n",
    "import sys\r\n",
    "import numpy as np\r\n",
    "from pickle import dump,load\r\n",
    "from collections import Counter\r\n",
    "import torch \r\n",
    "import torch.optim as optim\r\n",
    "import torch.nn as nn\r\n",
    "from tqdm.notebook import tqdm\r\n",
    "from torch.nn.utils.rnn import pad_sequence\r\n",
    "from torch.utils.data import DataLoader\r\n",
    "from sklearn.metrics import accuracy_score\r\n",
    "import seaborn as sns\r\n",
    "import os\r\n",
    "import warnings\r\n",
    "warnings.filterwarnings('ignore')\r\n",
    "\r\n",
    "sys.path.append('../../')\r\n",
    "%load_ext autoreload"
   ]
  },
  {
   "cell_type": "code",
   "execution_count": 71,
   "metadata": {},
   "outputs": [],
   "source": [
    "df=pd.read_csv('../data/modified/data_to_work_on.csv')"
   ]
  },
  {
   "cell_type": "code",
   "execution_count": 8,
   "metadata": {},
   "outputs": [
    {
     "data": {
      "text/html": "<div>\n<style scoped>\n    .dataframe tbody tr th:only-of-type {\n        vertical-align: middle;\n    }\n\n    .dataframe tbody tr th {\n        vertical-align: top;\n    }\n\n    .dataframe thead th {\n        text-align: right;\n    }\n</style>\n<table border=\"1\" class=\"dataframe\">\n  <thead>\n    <tr style=\"text-align: right;\">\n      <th></th>\n      <th>comment_text</th>\n      <th>toxic</th>\n      <th>severe_toxic</th>\n      <th>obscene</th>\n      <th>threat</th>\n      <th>insult</th>\n      <th>identity_hate</th>\n    </tr>\n  </thead>\n  <tbody>\n    <tr>\n      <th>0</th>\n      <td>Explanation\\nWhy the edits made under my usern...</td>\n      <td>0</td>\n      <td>0</td>\n      <td>0</td>\n      <td>0</td>\n      <td>0</td>\n      <td>0</td>\n    </tr>\n    <tr>\n      <th>1</th>\n      <td>D'aww! He matches this background colour I'm s...</td>\n      <td>0</td>\n      <td>0</td>\n      <td>0</td>\n      <td>0</td>\n      <td>0</td>\n      <td>0</td>\n    </tr>\n    <tr>\n      <th>2</th>\n      <td>Hey man, I'm really not trying to edit war. It...</td>\n      <td>0</td>\n      <td>0</td>\n      <td>0</td>\n      <td>0</td>\n      <td>0</td>\n      <td>0</td>\n    </tr>\n    <tr>\n      <th>3</th>\n      <td>\"\\nMore\\nI can't make any real suggestions on ...</td>\n      <td>0</td>\n      <td>0</td>\n      <td>0</td>\n      <td>0</td>\n      <td>0</td>\n      <td>0</td>\n    </tr>\n    <tr>\n      <th>4</th>\n      <td>You, sir, are my hero. Any chance you remember...</td>\n      <td>0</td>\n      <td>0</td>\n      <td>0</td>\n      <td>0</td>\n      <td>0</td>\n      <td>0</td>\n    </tr>\n  </tbody>\n</table>\n</div>",
      "text/plain": "                                        comment_text  toxic  severe_toxic  \\\n0  Explanation\\nWhy the edits made under my usern...      0             0   \n1  D'aww! He matches this background colour I'm s...      0             0   \n2  Hey man, I'm really not trying to edit war. It...      0             0   \n3  \"\\nMore\\nI can't make any real suggestions on ...      0             0   \n4  You, sir, are my hero. Any chance you remember...      0             0   \n\n   obscene  threat  insult  identity_hate  \n0        0       0       0              0  \n1        0       0       0              0  \n2        0       0       0              0  \n3        0       0       0              0  \n4        0       0       0              0  "
     },
     "execution_count": 8,
     "metadata": {},
     "output_type": "execute_result"
    }
   ],
   "source": [
    "df.head()"
   ]
  },
  {
   "cell_type": "code",
   "execution_count": 37,
   "metadata": {},
   "outputs": [],
   "source": [
    "%autoreload 2\r\n",
    "from no_toxicity.src.preprocessing.cleaning import Dfcleaner"
   ]
  },
  {
   "cell_type": "code",
   "execution_count": 47,
   "metadata": {},
   "outputs": [],
   "source": [
    "# Making the list of column to clean\r\n",
    "raw_comments=df['comment_text'].to_list()"
   ]
  },
  {
   "cell_type": "code",
   "execution_count": 106,
   "metadata": {},
   "outputs": [],
   "source": [
    "# See the cleaning.py to see how it works\r\n",
    "cleaner=Dfcleaner()"
   ]
  },
  {
   "cell_type": "code",
   "execution_count": 22,
   "metadata": {},
   "outputs": [
    {
     "name": "stdout",
     "output_type": "stream",
     "text": [
      "10000 examples cleaned out of 159571\n",
      "20000 examples cleaned out of 159571\n",
      "30000 examples cleaned out of 159571\n",
      "40000 examples cleaned out of 159571\n",
      "50000 examples cleaned out of 159571\n",
      "60000 examples cleaned out of 159571\n",
      "70000 examples cleaned out of 159571\n",
      "80000 examples cleaned out of 159571\n",
      "90000 examples cleaned out of 159571\n",
      "100000 examples cleaned out of 159571\n",
      "110000 examples cleaned out of 159571\n",
      "120000 examples cleaned out of 159571\n",
      "130000 examples cleaned out of 159571\n",
      "140000 examples cleaned out of 159571\n",
      "150000 examples cleaned out of 159571\n",
      "Cleaning Done\n"
     ]
    }
   ],
   "source": [
    "cleaned_comments=cleaner.clean(raw_comments,stem=False)"
   ]
  },
  {
   "cell_type": "code",
   "execution_count": 129,
   "metadata": {},
   "outputs": [
    {
     "name": "stdout",
     "output_type": "stream",
     "text": [
      "10000 examples cleaned out of 159517\n",
      "20000 examples cleaned out of 159517\n",
      "30000 examples cleaned out of 159517\n",
      "40000 examples cleaned out of 159517\n",
      "50000 examples cleaned out of 159517\n",
      "60000 examples cleaned out of 159517\n",
      "70000 examples cleaned out of 159517\n",
      "80000 examples cleaned out of 159517\n",
      "90000 examples cleaned out of 159517\n",
      "100000 examples cleaned out of 159517\n",
      "110000 examples cleaned out of 159517\n",
      "120000 examples cleaned out of 159517\n",
      "130000 examples cleaned out of 159517\n",
      "140000 examples cleaned out of 159517\n",
      "150000 examples cleaned out of 159517\n",
      "Cleaning Done\n"
     ]
    }
   ],
   "source": [
    "cleaned_comments=cleaner.remove_frequent_rare(cleaned_comments,frequent=True,rare=True)"
   ]
  },
  {
   "cell_type": "code",
   "execution_count": 131,
   "metadata": {},
   "outputs": [],
   "source": [
    "# Replacing the df column with new data\r\n",
    "df['comment_text']=cleaned_comments"
   ]
  },
  {
   "cell_type": "code",
   "execution_count": 133,
   "metadata": {},
   "outputs": [],
   "source": [
    "# # Saving the cleaned data (don't run this cell)\r\n",
    "# df.to_csv('../data/interim/cleaned_data1.csv',index=False)"
   ]
  },
  {
   "cell_type": "code",
   "execution_count": 72,
   "metadata": {},
   "outputs": [],
   "source": [
    "# Load the data\r\n",
    "data=pd.read_csv('../data/interim/cleaned_data1.csv')\r\n",
    "data.dropna(inplace=True)"
   ]
  },
  {
   "cell_type": "code",
   "execution_count": 73,
   "metadata": {},
   "outputs": [],
   "source": [
    "# Let's make our own new feature\r\n",
    "def new_col_value(row):\r\n",
    "    flag=True\r\n",
    "    # If the sample is toxic make it 0 and break else 1\r\n",
    "    for i in row.iloc[1:]:\r\n",
    "        if i==1:\r\n",
    "            flag=False\r\n",
    "            break\r\n",
    "    if flag:\r\n",
    "        return 1\r\n",
    "    else:\r\n",
    "        return 0\r\n"
   ]
  },
  {
   "cell_type": "code",
   "execution_count": 74,
   "metadata": {},
   "outputs": [],
   "source": [
    "# Making the new feature\r\n",
    "data['not_toxic']=data.apply(lambda row:new_col_value(row),axis=1)"
   ]
  },
  {
   "cell_type": "code",
   "execution_count": 75,
   "metadata": {},
   "outputs": [
    {
     "data": {
      "image/png": "[encoded data removed]",
      "text/plain": "<Figure size 432x288 with 1 Axes>"
     },
     "metadata": {
      "needs_background": "light"
     },
     "output_type": "display_data"
    }
   ],
   "source": [
    "_=sns.countplot('not_toxic',data=data)"
   ]
  },
  {
   "cell_type": "markdown",
   "metadata": {},
   "source": [
    "## We can clearly see our dataset is imbalanced so let's UnderSample our majority class"
   ]
  },
  {
   "cell_type": "code",
   "execution_count": 76,
   "metadata": {},
   "outputs": [],
   "source": [
    "from imblearn.under_sampling import RandomUnderSampler"
   ]
  },
  {
   "cell_type": "code",
   "execution_count": 77,
   "metadata": {},
   "outputs": [],
   "source": [
    "rus = RandomUnderSampler(random_state=42)\r\n",
    "data,Y_label= rus.fit_resample(data.iloc[:,:-1],data.iloc[:,-1])\r\n",
    "data['not_toxic']=Y_label"
   ]
  },
  {
   "cell_type": "code",
   "execution_count": 78,
   "metadata": {},
   "outputs": [],
   "source": [
    "data = data.sample(frac=1).reset_index(drop=True)"
   ]
  },
  {
   "cell_type": "code",
   "execution_count": 79,
   "metadata": {},
   "outputs": [
    {
     "data": {
      "text/html": "<div>\n<style scoped>\n    .dataframe tbody tr th:only-of-type {\n        vertical-align: middle;\n    }\n\n    .dataframe tbody tr th {\n        vertical-align: top;\n    }\n\n    .dataframe thead th {\n        text-align: right;\n    }\n</style>\n<table border=\"1\" class=\"dataframe\">\n  <thead>\n    <tr style=\"text-align: right;\">\n      <th></th>\n      <th>comment_text</th>\n      <th>toxic</th>\n      <th>severe_toxic</th>\n      <th>obscene</th>\n      <th>threat</th>\n      <th>insult</th>\n      <th>identity_hate</th>\n      <th>not_toxic</th>\n    </tr>\n  </thead>\n  <tbody>\n    <tr>\n      <th>0</th>\n      <td>nonsense whether liberal group complain target...</td>\n      <td>0</td>\n      <td>0</td>\n      <td>0</td>\n      <td>0</td>\n      <td>0</td>\n      <td>0</td>\n      <td>1</td>\n    </tr>\n    <tr>\n      <th>1</th>\n      <td>case name past celebrity okay citation engage ...</td>\n      <td>0</td>\n      <td>0</td>\n      <td>0</td>\n      <td>0</td>\n      <td>0</td>\n      <td>0</td>\n      <td>1</td>\n    </tr>\n    <tr>\n      <th>2</th>\n      <td>suck asyou ignorant romanian nazi</td>\n      <td>1</td>\n      <td>0</td>\n      <td>1</td>\n      <td>0</td>\n      <td>1</td>\n      <td>1</td>\n      <td>0</td>\n    </tr>\n    <tr>\n      <th>3</th>\n      <td>stop continue blank delete portion content tem...</td>\n      <td>0</td>\n      <td>0</td>\n      <td>0</td>\n      <td>0</td>\n      <td>0</td>\n      <td>0</td>\n      <td>1</td>\n    </tr>\n    <tr>\n      <th>4</th>\n      <td>p fuck cunt piece shit hope die rot hell accus...</td>\n      <td>1</td>\n      <td>1</td>\n      <td>1</td>\n      <td>0</td>\n      <td>0</td>\n      <td>0</td>\n      <td>0</td>\n    </tr>\n    <tr>\n      <th>...</th>\n      <td>...</td>\n      <td>...</td>\n      <td>...</td>\n      <td>...</td>\n      <td>...</td>\n      <td>...</td>\n      <td>...</td>\n      <td>...</td>\n    </tr>\n    <tr>\n      <th>32445</th>\n      <td>full cunt</td>\n      <td>1</td>\n      <td>0</td>\n      <td>1</td>\n      <td>0</td>\n      <td>0</td>\n      <td>0</td>\n      <td>0</td>\n    </tr>\n    <tr>\n      <th>32446</th>\n      <td>also like point modwilson faux merely mean unt...</td>\n      <td>0</td>\n      <td>0</td>\n      <td>0</td>\n      <td>0</td>\n      <td>0</td>\n      <td>0</td>\n      <td>1</td>\n    </tr>\n    <tr>\n      <th>32447</th>\n      <td>yea well kiss fucker shit nut</td>\n      <td>1</td>\n      <td>0</td>\n      <td>1</td>\n      <td>0</td>\n      <td>1</td>\n      <td>0</td>\n      <td>0</td>\n    </tr>\n    <tr>\n      <th>32448</th>\n      <td>like know theoretical speed gigabit gibibit la...</td>\n      <td>0</td>\n      <td>0</td>\n      <td>0</td>\n      <td>0</td>\n      <td>0</td>\n      <td>0</td>\n      <td>1</td>\n    </tr>\n    <tr>\n      <th>32449</th>\n      <td>redirect transition ep</td>\n      <td>0</td>\n      <td>0</td>\n      <td>0</td>\n      <td>0</td>\n      <td>0</td>\n      <td>0</td>\n      <td>1</td>\n    </tr>\n  </tbody>\n</table>\n<p>32450 rows × 8 columns</p>\n</div>",
      "text/plain": "                                            comment_text  toxic  severe_toxic  \\\n0      nonsense whether liberal group complain target...      0             0   \n1      case name past celebrity okay citation engage ...      0             0   \n2                      suck asyou ignorant romanian nazi      1             0   \n3      stop continue blank delete portion content tem...      0             0   \n4      p fuck cunt piece shit hope die rot hell accus...      1             1   \n...                                                  ...    ...           ...   \n32445                                          full cunt      1             0   \n32446  also like point modwilson faux merely mean unt...      0             0   \n32447                      yea well kiss fucker shit nut      1             0   \n32448  like know theoretical speed gigabit gibibit la...      0             0   \n32449                             redirect transition ep      0             0   \n\n       obscene  threat  insult  identity_hate  not_toxic  \n0            0       0       0              0          1  \n1            0       0       0              0          1  \n2            1       0       1              1          0  \n3            0       0       0              0          1  \n4            1       0       0              0          0  \n...        ...     ...     ...            ...        ...  \n32445        1       0       0              0          0  \n32446        0       0       0              0          1  \n32447        1       0       1              0          0  \n32448        0       0       0              0          1  \n32449        0       0       0              0          1  \n\n[32450 rows x 8 columns]"
     },
     "execution_count": 79,
     "metadata": {},
     "output_type": "execute_result"
    }
   ],
   "source": [
    "data"
   ]
  },
  {
   "cell_type": "code",
   "execution_count": 80,
   "metadata": {},
   "outputs": [],
   "source": [
    "%autoreload 2\r\n",
    "from no_toxicity.src.preprocessing.preprocess import PrepareTheData"
   ]
  },
  {
   "cell_type": "code",
   "execution_count": 81,
   "metadata": {},
   "outputs": [
    {
     "name": "stdout",
     "output_type": "stream",
     "text": [
      "Tokenization Done\n",
      "Replacing Done\n",
      "token2idx created\n",
      "tokens_to_indices created\n",
      "Presprocessing done\n"
     ]
    }
   ],
   "source": [
    "# See the preprocess.py to see how it works\r\n",
    "dataset=PrepareTheData(data[['comment_text']],data.iloc[:,1:],max_vocab=4000)"
   ]
  },
  {
   "cell_type": "code",
   "execution_count": 82,
   "metadata": {},
   "outputs": [],
   "source": [
    "train_size = int(0.9 * len(dataset))\r\n",
    "test_size = len(dataset) - train_size\r\n",
    "train_dataset, validation_dataset = torch.utils.data.random_split(dataset, [train_size, test_size])"
   ]
  },
  {
   "cell_type": "code",
   "execution_count": 83,
   "metadata": {},
   "outputs": [],
   "source": [
    "device = torch.device('cuda' if torch.cuda.is_available() else 'cpu')"
   ]
  },
  {
   "cell_type": "code",
   "execution_count": 84,
   "metadata": {},
   "outputs": [],
   "source": [
    "def collate(batch):\r\n",
    "    inputs = [torch.LongTensor(item[0]) for item in batch]\r\n",
    "    targets = [item[1] for item in batch]\r\n",
    "    targets=torch.Tensor(targets)\r\n",
    "\r\n",
    "    # Pad sequencse so that they are all the same length (within one minibatch)\r\n",
    "    padded_inputs = pad_sequence(inputs, padding_value=dataset.token2idx_inputs[dataset.padding_token], batch_first=True)\r\n",
    " \r\n",
    "    # Sort by length for CUDA optimizations\r\n",
    "    lengths = torch.LongTensor([len(x) for x in inputs])\r\n",
    "    lengths, permutation = lengths.sort(dim=0, descending=True)\r\n",
    "\r\n",
    "    return padded_inputs[permutation].to(device), targets[permutation].to(device), lengths.to(device)\r\n",
    "\r\n",
    "# Define the Dataloaders\r\n",
    "batch_size = 50\r\n",
    "train_loader = DataLoader(train_dataset, batch_size=batch_size, collate_fn=collate,shuffle=True)\r\n",
    "validation_loader = DataLoader(validation_dataset, batch_size=327, collate_fn=collate,shuffle=True)"
   ]
  },
  {
   "cell_type": "code",
   "execution_count": 85,
   "metadata": {},
   "outputs": [],
   "source": [
    "%autoreload 2\r\n",
    "from no_toxicity.src.models.MyModel import MyModel"
   ]
  },
  {
   "cell_type": "code",
   "execution_count": 86,
   "metadata": {},
   "outputs": [],
   "source": [
    "model = MyModel(input_vocab_size=len(dataset.token2idx_inputs), \r\n",
    "            emd_dim=100, \r\n",
    "            hidden_size=300,\r\n",
    "            batch_size=batch_size,\r\n",
    "            n_layers=4, \r\n",
    "            token_to_idx=dataset.token2idx_inputs).to(device)\r\n",
    "\r\n",
    "optimizer = optim.Adam([p for p in model.parameters() if p.requires_grad], lr=0.001)"
   ]
  },
  {
   "cell_type": "code",
   "execution_count": 87,
   "metadata": {},
   "outputs": [
    {
     "data": {
      "application/vnd.jupyter.widget-view+json": {
       "model_id": "b99984db2a7d451d9f7d784d2163d985",
       "version_major": 2,
       "version_minor": 0
      },
      "text/plain": "  0%|          | 0/100 [00:00<?, ?it/s]"
     },
     "metadata": {},
     "output_type": "display_data"
    },
    {
     "data": {
      "application/vnd.jupyter.widget-view+json": {
       "model_id": "183b30e220e849a699418250d10090df",
       "version_major": 2,
       "version_minor": 0
      },
      "text/plain": "Training:   0%|          | 0/358 [00:00<?, ?it/s]"
     },
     "metadata": {},
     "output_type": "display_data"
    },
    {
     "name": "stdout",
     "output_type": "stream",
     "text": [
      "epoch #  1\ttrain_loss: 1.39e-02\tmodel_acc: {'accuracy': 0.72}\n",
      "\n"
     ]
    },
    {
     "data": {
      "application/vnd.jupyter.widget-view+json": {
       "model_id": "7c66685bfe1243f39a01be834d0d351d",
       "version_major": 2,
       "version_minor": 0
      },
      "text/plain": "Training:   0%|          | 0/358 [00:00<?, ?it/s]"
     },
     "metadata": {},
     "output_type": "display_data"
    },
    {
     "data": {
      "application/vnd.jupyter.widget-view+json": {
       "model_id": "d29b6742054849d48efd7e43e0cac4bf",
       "version_major": 2,
       "version_minor": 0
      },
      "text/plain": "Training:   0%|          | 0/358 [00:00<?, ?it/s]"
     },
     "metadata": {},
     "output_type": "display_data"
    },
    {
     "data": {
      "application/vnd.jupyter.widget-view+json": {
       "model_id": "b9ebd597fe674c26a42b72c55d247eb3",
       "version_major": 2,
       "version_minor": 0
      },
      "text/plain": "Training:   0%|          | 0/358 [00:00<?, ?it/s]"
     },
     "metadata": {},
     "output_type": "display_data"
    },
    {
     "data": {
      "application/vnd.jupyter.widget-view+json": {
       "model_id": "021deda1c26143af8b23407fe47455f3",
       "version_major": 2,
       "version_minor": 0
      },
      "text/plain": "Training:   0%|          | 0/358 [00:00<?, ?it/s]"
     },
     "metadata": {},
     "output_type": "display_data"
    },
    {
     "data": {
      "application/vnd.jupyter.widget-view+json": {
       "model_id": "85c739a191ed47b1b30de97d67bbfe72",
       "version_major": 2,
       "version_minor": 0
      },
      "text/plain": "Training:   0%|          | 0/358 [00:00<?, ?it/s]"
     },
     "metadata": {},
     "output_type": "display_data"
    },
    {
     "data": {
      "application/vnd.jupyter.widget-view+json": {
       "model_id": "ae75ca32b80c4b5c90a6e94beaa46743",
       "version_major": 2,
       "version_minor": 0
      },
      "text/plain": "Training:   0%|          | 0/358 [00:00<?, ?it/s]"
     },
     "metadata": {},
     "output_type": "display_data"
    },
    {
     "data": {
      "application/vnd.jupyter.widget-view+json": {
       "model_id": "75602a54ac5c4af6baf970cb2b5d48d6",
       "version_major": 2,
       "version_minor": 0
      },
      "text/plain": "Training:   0%|          | 0/358 [00:00<?, ?it/s]"
     },
     "metadata": {},
     "output_type": "display_data"
    },
    {
     "data": {
      "application/vnd.jupyter.widget-view+json": {
       "model_id": "21d1db7e847146a59bee2c05feb15b28",
       "version_major": 2,
       "version_minor": 0
      },
      "text/plain": "Training:   0%|          | 0/358 [00:00<?, ?it/s]"
     },
     "metadata": {},
     "output_type": "display_data"
    },
    {
     "data": {
      "application/vnd.jupyter.widget-view+json": {
       "model_id": "78ebb022fe7f49399c0225a04bbfa317",
       "version_major": 2,
       "version_minor": 0
      },
      "text/plain": "Training:   0%|          | 0/358 [00:00<?, ?it/s]"
     },
     "metadata": {},
     "output_type": "display_data"
    },
    {
     "data": {
      "application/vnd.jupyter.widget-view+json": {
       "model_id": "2adea1ddf0134f009f677e03b4071609",
       "version_major": 2,
       "version_minor": 0
      },
      "text/plain": "Training:   0%|          | 0/358 [00:00<?, ?it/s]"
     },
     "metadata": {},
     "output_type": "display_data"
    },
    {
     "name": "stdout",
     "output_type": "stream",
     "text": [
      "epoch # 11\ttrain_loss: 1.39e-02\tmodel_acc: {'accuracy': 0.54}\n",
      "\n"
     ]
    },
    {
     "data": {
      "application/vnd.jupyter.widget-view+json": {
       "model_id": "7a5cf8df54524a63952353cc3cd70270",
       "version_major": 2,
       "version_minor": 0
      },
      "text/plain": "Training:   0%|          | 0/358 [00:00<?, ?it/s]"
     },
     "metadata": {},
     "output_type": "display_data"
    },
    {
     "data": {
      "application/vnd.jupyter.widget-view+json": {
       "model_id": "66806d1626d84bff83158bf2dc350aa8",
       "version_major": 2,
       "version_minor": 0
      },
      "text/plain": "Training:   0%|          | 0/358 [00:00<?, ?it/s]"
     },
     "metadata": {},
     "output_type": "display_data"
    },
    {
     "data": {
      "application/vnd.jupyter.widget-view+json": {
       "model_id": "b8666a8dc7064e27872bfac2c4a87b0b",
       "version_major": 2,
       "version_minor": 0
      },
      "text/plain": "Training:   0%|          | 0/358 [00:00<?, ?it/s]"
     },
     "metadata": {},
     "output_type": "display_data"
    },
    {
     "data": {
      "application/vnd.jupyter.widget-view+json": {
       "model_id": "e466cdd61ed64e43a29b9516d1eec6eb",
       "version_major": 2,
       "version_minor": 0
      },
      "text/plain": "Training:   0%|          | 0/358 [00:00<?, ?it/s]"
     },
     "metadata": {},
     "output_type": "display_data"
    },
    {
     "data": {
      "application/vnd.jupyter.widget-view+json": {
       "model_id": "b925ddc90e314ea4865fe5bb739345d1",
       "version_major": 2,
       "version_minor": 0
      },
      "text/plain": "Training:   0%|          | 0/358 [00:00<?, ?it/s]"
     },
     "metadata": {},
     "output_type": "display_data"
    },
    {
     "data": {
      "application/vnd.jupyter.widget-view+json": {
       "model_id": "bd1a10fc04894c609d408347fa98e352",
       "version_major": 2,
       "version_minor": 0
      },
      "text/plain": "Training:   0%|          | 0/358 [00:00<?, ?it/s]"
     },
     "metadata": {},
     "output_type": "display_data"
    },
    {
     "data": {
      "application/vnd.jupyter.widget-view+json": {
       "model_id": "550fc9d1f42447db8f987d2f259a4080",
       "version_major": 2,
       "version_minor": 0
      },
      "text/plain": "Training:   0%|          | 0/358 [00:00<?, ?it/s]"
     },
     "metadata": {},
     "output_type": "display_data"
    },
    {
     "data": {
      "application/vnd.jupyter.widget-view+json": {
       "model_id": "212243ed831c440282db811d4537279b",
       "version_major": 2,
       "version_minor": 0
      },
      "text/plain": "Training:   0%|          | 0/358 [00:00<?, ?it/s]"
     },
     "metadata": {},
     "output_type": "display_data"
    },
    {
     "data": {
      "application/vnd.jupyter.widget-view+json": {
       "model_id": "986fd8b4c33f40b0bbae0f0ea24368e7",
       "version_major": 2,
       "version_minor": 0
      },
      "text/plain": "Training:   0%|          | 0/358 [00:00<?, ?it/s]"
     },
     "metadata": {},
     "output_type": "display_data"
    },
    {
     "data": {
      "application/vnd.jupyter.widget-view+json": {
       "model_id": "7d32174f9e23434e99dfc2db1a8d068b",
       "version_major": 2,
       "version_minor": 0
      },
      "text/plain": "Training:   0%|          | 0/358 [00:00<?, ?it/s]"
     },
     "metadata": {},
     "output_type": "display_data"
    },
    {
     "name": "stdout",
     "output_type": "stream",
     "text": [
      "epoch # 21\ttrain_loss: 1.39e-02\tmodel_acc: {'accuracy': 0.5}\n",
      "\n"
     ]
    },
    {
     "data": {
      "application/vnd.jupyter.widget-view+json": {
       "model_id": "66d1dacfb3fe460087c07b7da71d4c8b",
       "version_major": 2,
       "version_minor": 0
      },
      "text/plain": "Training:   0%|          | 0/358 [00:00<?, ?it/s]"
     },
     "metadata": {},
     "output_type": "display_data"
    },
    {
     "data": {
      "application/vnd.jupyter.widget-view+json": {
       "model_id": "cffa4ad78afb4194a4a2dff697d68ed5",
       "version_major": 2,
       "version_minor": 0
      },
      "text/plain": "Training:   0%|          | 0/358 [00:00<?, ?it/s]"
     },
     "metadata": {},
     "output_type": "display_data"
    },
    {
     "data": {
      "application/vnd.jupyter.widget-view+json": {
       "model_id": "65b80c2e0bf84b89926cfb47ea8398f9",
       "version_major": 2,
       "version_minor": 0
      },
      "text/plain": "Training:   0%|          | 0/358 [00:00<?, ?it/s]"
     },
     "metadata": {},
     "output_type": "display_data"
    },
    {
     "data": {
      "application/vnd.jupyter.widget-view+json": {
       "model_id": "cdbf7502138b4602beab0c364e384a26",
       "version_major": 2,
       "version_minor": 0
      },
      "text/plain": "Training:   0%|          | 0/358 [00:00<?, ?it/s]"
     },
     "metadata": {},
     "output_type": "display_data"
    },
    {
     "data": {
      "application/vnd.jupyter.widget-view+json": {
       "model_id": "72113c9d33734254856f09d755b27bea",
       "version_major": 2,
       "version_minor": 0
      },
      "text/plain": "Training:   0%|          | 0/358 [00:00<?, ?it/s]"
     },
     "metadata": {},
     "output_type": "display_data"
    },
    {
     "data": {
      "application/vnd.jupyter.widget-view+json": {
       "model_id": "9ba970f859a94d579fff5ab07f77c960",
       "version_major": 2,
       "version_minor": 0
      },
      "text/plain": "Training:   0%|          | 0/358 [00:00<?, ?it/s]"
     },
     "metadata": {},
     "output_type": "display_data"
    },
    {
     "data": {
      "application/vnd.jupyter.widget-view+json": {
       "model_id": "66a11ca326ee41c89eafa63d9ae0e9b2",
       "version_major": 2,
       "version_minor": 0
      },
      "text/plain": "Training:   0%|          | 0/358 [00:00<?, ?it/s]"
     },
     "metadata": {},
     "output_type": "display_data"
    },
    {
     "data": {
      "application/vnd.jupyter.widget-view+json": {
       "model_id": "3f75230ff3744c10ace5276a738638dd",
       "version_major": 2,
       "version_minor": 0
      },
      "text/plain": "Training:   0%|          | 0/358 [00:00<?, ?it/s]"
     },
     "metadata": {},
     "output_type": "display_data"
    },
    {
     "data": {
      "application/vnd.jupyter.widget-view+json": {
       "model_id": "f914ebd230e7490f9bbc0aa063774e11",
       "version_major": 2,
       "version_minor": 0
      },
      "text/plain": "Training:   0%|          | 0/358 [00:00<?, ?it/s]"
     },
     "metadata": {},
     "output_type": "display_data"
    },
    {
     "data": {
      "application/vnd.jupyter.widget-view+json": {
       "model_id": "b3f899f7ed514193bce45ab973b3272c",
       "version_major": 2,
       "version_minor": 0
      },
      "text/plain": "Training:   0%|          | 0/358 [00:00<?, ?it/s]"
     },
     "metadata": {},
     "output_type": "display_data"
    },
    {
     "name": "stdout",
     "output_type": "stream",
     "text": [
      "epoch # 31\ttrain_loss: 1.39e-02\tmodel_acc: {'accuracy': 0.62}\n",
      "\n"
     ]
    },
    {
     "data": {
      "application/vnd.jupyter.widget-view+json": {
       "model_id": "8ada7d3fd31b464381bec21f4de0406c",
       "version_major": 2,
       "version_minor": 0
      },
      "text/plain": "Training:   0%|          | 0/358 [00:00<?, ?it/s]"
     },
     "metadata": {},
     "output_type": "display_data"
    },
    {
     "data": {
      "application/vnd.jupyter.widget-view+json": {
       "model_id": "df1741dcc841444b8a4831b14def601e",
       "version_major": 2,
       "version_minor": 0
      },
      "text/plain": "Training:   0%|          | 0/358 [00:00<?, ?it/s]"
     },
     "metadata": {},
     "output_type": "display_data"
    },
    {
     "data": {
      "application/vnd.jupyter.widget-view+json": {
       "model_id": "31e4b0ba81994c06bd73dbb955203d2c",
       "version_major": 2,
       "version_minor": 0
      },
      "text/plain": "Training:   0%|          | 0/358 [00:00<?, ?it/s]"
     },
     "metadata": {},
     "output_type": "display_data"
    },
    {
     "data": {
      "application/vnd.jupyter.widget-view+json": {
       "model_id": "20e3a041d1c54bdd81280bcfe61559da",
       "version_major": 2,
       "version_minor": 0
      },
      "text/plain": "Training:   0%|          | 0/358 [00:00<?, ?it/s]"
     },
     "metadata": {},
     "output_type": "display_data"
    },
    {
     "data": {
      "application/vnd.jupyter.widget-view+json": {
       "model_id": "a7c2965f230645fa9143ccebb9152e03",
       "version_major": 2,
       "version_minor": 0
      },
      "text/plain": "Training:   0%|          | 0/358 [00:00<?, ?it/s]"
     },
     "metadata": {},
     "output_type": "display_data"
    },
    {
     "data": {
      "application/vnd.jupyter.widget-view+json": {
       "model_id": "6592c4abf4f74f759a753cd22c04a58d",
       "version_major": 2,
       "version_minor": 0
      },
      "text/plain": "Training:   0%|          | 0/358 [00:00<?, ?it/s]"
     },
     "metadata": {},
     "output_type": "display_data"
    },
    {
     "data": {
      "application/vnd.jupyter.widget-view+json": {
       "model_id": "b057da8b29df4ca180fa38480fc22bc7",
       "version_major": 2,
       "version_minor": 0
      },
      "text/plain": "Training:   0%|          | 0/358 [00:00<?, ?it/s]"
     },
     "metadata": {},
     "output_type": "display_data"
    },
    {
     "data": {
      "application/vnd.jupyter.widget-view+json": {
       "model_id": "0e763d4ecffe459b9aee000aaddd9933",
       "version_major": 2,
       "version_minor": 0
      },
      "text/plain": "Training:   0%|          | 0/358 [00:00<?, ?it/s]"
     },
     "metadata": {},
     "output_type": "display_data"
    },
    {
     "data": {
      "application/vnd.jupyter.widget-view+json": {
       "model_id": "1c92ef0fbd7845628baefa58cb5790ab",
       "version_major": 2,
       "version_minor": 0
      },
      "text/plain": "Training:   0%|          | 0/358 [00:00<?, ?it/s]"
     },
     "metadata": {},
     "output_type": "display_data"
    },
    {
     "data": {
      "application/vnd.jupyter.widget-view+json": {
       "model_id": "e0a716ef714e4f1d808f0d55947073df",
       "version_major": 2,
       "version_minor": 0
      },
      "text/plain": "Training:   0%|          | 0/358 [00:00<?, ?it/s]"
     },
     "metadata": {},
     "output_type": "display_data"
    },
    {
     "name": "stdout",
     "output_type": "stream",
     "text": [
      "epoch # 41\ttrain_loss: 1.39e-02\tmodel_acc: {'accuracy': 0.52}\n",
      "\n"
     ]
    },
    {
     "data": {
      "application/vnd.jupyter.widget-view+json": {
       "model_id": "4455f3f44b684eb5a715e5f187b8b6f1",
       "version_major": 2,
       "version_minor": 0
      },
      "text/plain": "Training:   0%|          | 0/358 [00:00<?, ?it/s]"
     },
     "metadata": {},
     "output_type": "display_data"
    },
    {
     "data": {
      "application/vnd.jupyter.widget-view+json": {
       "model_id": "57328e3be0a244f3b9049c4a441f6e7c",
       "version_major": 2,
       "version_minor": 0
      },
      "text/plain": "Training:   0%|          | 0/358 [00:00<?, ?it/s]"
     },
     "metadata": {},
     "output_type": "display_data"
    },
    {
     "data": {
      "application/vnd.jupyter.widget-view+json": {
       "model_id": "95b29acbe2534ca4be9d59e3ac170758",
       "version_major": 2,
       "version_minor": 0
      },
      "text/plain": "Training:   0%|          | 0/358 [00:00<?, ?it/s]"
     },
     "metadata": {},
     "output_type": "display_data"
    },
    {
     "data": {
      "application/vnd.jupyter.widget-view+json": {
       "model_id": "2463376cd9b942d2940748d7575291b9",
       "version_major": 2,
       "version_minor": 0
      },
      "text/plain": "Training:   0%|          | 0/358 [00:00<?, ?it/s]"
     },
     "metadata": {},
     "output_type": "display_data"
    },
    {
     "data": {
      "application/vnd.jupyter.widget-view+json": {
       "model_id": "1523ae9ac0414956acff81211fad81e4",
       "version_major": 2,
       "version_minor": 0
      },
      "text/plain": "Training:   0%|          | 0/358 [00:00<?, ?it/s]"
     },
     "metadata": {},
     "output_type": "display_data"
    },
    {
     "data": {
      "application/vnd.jupyter.widget-view+json": {
       "model_id": "7770a681ecc74dfda4bb88306acb7a03",
       "version_major": 2,
       "version_minor": 0
      },
      "text/plain": "Training:   0%|          | 0/358 [00:00<?, ?it/s]"
     },
     "metadata": {},
     "output_type": "display_data"
    },
    {
     "data": {
      "application/vnd.jupyter.widget-view+json": {
       "model_id": "08c7a53c9aae4b4ea519623efd594939",
       "version_major": 2,
       "version_minor": 0
      },
      "text/plain": "Training:   0%|          | 0/358 [00:00<?, ?it/s]"
     },
     "metadata": {},
     "output_type": "display_data"
    },
    {
     "data": {
      "application/vnd.jupyter.widget-view+json": {
       "model_id": "07ec5d46b01e411da1569dd3063c3f71",
       "version_major": 2,
       "version_minor": 0
      },
      "text/plain": "Training:   0%|          | 0/358 [00:00<?, ?it/s]"
     },
     "metadata": {},
     "output_type": "display_data"
    },
    {
     "data": {
      "application/vnd.jupyter.widget-view+json": {
       "model_id": "3dcb35d51da648609eac23b1dd9f9995",
       "version_major": 2,
       "version_minor": 0
      },
      "text/plain": "Training:   0%|          | 0/358 [00:00<?, ?it/s]"
     },
     "metadata": {},
     "output_type": "display_data"
    },
    {
     "data": {
      "application/vnd.jupyter.widget-view+json": {
       "model_id": "7667b2d1835648328b98f3eada765056",
       "version_major": 2,
       "version_minor": 0
      },
      "text/plain": "Training:   0%|          | 0/358 [00:00<?, ?it/s]"
     },
     "metadata": {},
     "output_type": "display_data"
    },
    {
     "name": "stdout",
     "output_type": "stream",
     "text": [
      "epoch # 51\ttrain_loss: 1.39e-02\tmodel_acc: {'accuracy': 0.38}\n",
      "\n"
     ]
    },
    {
     "data": {
      "application/vnd.jupyter.widget-view+json": {
       "model_id": "f942f04cd64646a19ca3555ae8b1a47e",
       "version_major": 2,
       "version_minor": 0
      },
      "text/plain": "Training:   0%|          | 0/358 [00:00<?, ?it/s]"
     },
     "metadata": {},
     "output_type": "display_data"
    },
    {
     "data": {
      "application/vnd.jupyter.widget-view+json": {
       "model_id": "a50a8ef7ddc34f60b4025f29566fd140",
       "version_major": 2,
       "version_minor": 0
      },
      "text/plain": "Training:   0%|          | 0/358 [00:00<?, ?it/s]"
     },
     "metadata": {},
     "output_type": "display_data"
    },
    {
     "data": {
      "application/vnd.jupyter.widget-view+json": {
       "model_id": "5e3dc8f0509b40f2b8d07810c82270b1",
       "version_major": 2,
       "version_minor": 0
      },
      "text/plain": "Training:   0%|          | 0/358 [00:00<?, ?it/s]"
     },
     "metadata": {},
     "output_type": "display_data"
    },
    {
     "data": {
      "application/vnd.jupyter.widget-view+json": {
       "model_id": "a37115fd5ae34945bb04b6dfe552bd1e",
       "version_major": 2,
       "version_minor": 0
      },
      "text/plain": "Training:   0%|          | 0/358 [00:00<?, ?it/s]"
     },
     "metadata": {},
     "output_type": "display_data"
    },
    {
     "data": {
      "application/vnd.jupyter.widget-view+json": {
       "model_id": "d3020c86145640a9bf572423a4342b68",
       "version_major": 2,
       "version_minor": 0
      },
      "text/plain": "Training:   0%|          | 0/358 [00:00<?, ?it/s]"
     },
     "metadata": {},
     "output_type": "display_data"
    },
    {
     "data": {
      "application/vnd.jupyter.widget-view+json": {
       "model_id": "93856a9a950648a185291f1cb31ddfd6",
       "version_major": 2,
       "version_minor": 0
      },
      "text/plain": "Training:   0%|          | 0/358 [00:00<?, ?it/s]"
     },
     "metadata": {},
     "output_type": "display_data"
    },
    {
     "data": {
      "application/vnd.jupyter.widget-view+json": {
       "model_id": "05708e696033486b8582763ed23e0f1e",
       "version_major": 2,
       "version_minor": 0
      },
      "text/plain": "Training:   0%|          | 0/358 [00:00<?, ?it/s]"
     },
     "metadata": {},
     "output_type": "display_data"
    },
    {
     "data": {
      "application/vnd.jupyter.widget-view+json": {
       "model_id": "a12d7c401c4543a2ab3936c1f09f54b0",
       "version_major": 2,
       "version_minor": 0
      },
      "text/plain": "Training:   0%|          | 0/358 [00:00<?, ?it/s]"
     },
     "metadata": {},
     "output_type": "display_data"
    },
    {
     "data": {
      "application/vnd.jupyter.widget-view+json": {
       "model_id": "79fa2c8352d94e38aabde1034e7f7993",
       "version_major": 2,
       "version_minor": 0
      },
      "text/plain": "Training:   0%|          | 0/358 [00:00<?, ?it/s]"
     },
     "metadata": {},
     "output_type": "display_data"
    },
    {
     "data": {
      "application/vnd.jupyter.widget-view+json": {
       "model_id": "459584d5b3264edfb02175328b4bbe6f",
       "version_major": 2,
       "version_minor": 0
      },
      "text/plain": "Training:   0%|          | 0/358 [00:00<?, ?it/s]"
     },
     "metadata": {},
     "output_type": "display_data"
    },
    {
     "name": "stdout",
     "output_type": "stream",
     "text": [
      "epoch # 61\ttrain_loss: 1.39e-02\tmodel_acc: {'accuracy': 0.5}\n",
      "\n"
     ]
    },
    {
     "data": {
      "application/vnd.jupyter.widget-view+json": {
       "model_id": "604fe7f036d5450bb8f9b973dbbafb5a",
       "version_major": 2,
       "version_minor": 0
      },
      "text/plain": "Training:   0%|          | 0/358 [00:00<?, ?it/s]"
     },
     "metadata": {},
     "output_type": "display_data"
    },
    {
     "data": {
      "application/vnd.jupyter.widget-view+json": {
       "model_id": "a57a53116ac2430ea344dd692441a025",
       "version_major": 2,
       "version_minor": 0
      },
      "text/plain": "Training:   0%|          | 0/358 [00:00<?, ?it/s]"
     },
     "metadata": {},
     "output_type": "display_data"
    },
    {
     "data": {
      "application/vnd.jupyter.widget-view+json": {
       "model_id": "79a40f6f79c043f1b7c6d02b10cb0948",
       "version_major": 2,
       "version_minor": 0
      },
      "text/plain": "Training:   0%|          | 0/358 [00:00<?, ?it/s]"
     },
     "metadata": {},
     "output_type": "display_data"
    },
    {
     "data": {
      "application/vnd.jupyter.widget-view+json": {
       "model_id": "e46d48435231446aae6e0437b77bc48d",
       "version_major": 2,
       "version_minor": 0
      },
      "text/plain": "Training:   0%|          | 0/358 [00:00<?, ?it/s]"
     },
     "metadata": {},
     "output_type": "display_data"
    },
    {
     "data": {
      "application/vnd.jupyter.widget-view+json": {
       "model_id": "3cc42067d4a04874914bcc1f4008432a",
       "version_major": 2,
       "version_minor": 0
      },
      "text/plain": "Training:   0%|          | 0/358 [00:00<?, ?it/s]"
     },
     "metadata": {},
     "output_type": "display_data"
    },
    {
     "data": {
      "application/vnd.jupyter.widget-view+json": {
       "model_id": "c8f69a1bec97401a9b3092c20ead6948",
       "version_major": 2,
       "version_minor": 0
      },
      "text/plain": "Training:   0%|          | 0/358 [00:00<?, ?it/s]"
     },
     "metadata": {},
     "output_type": "display_data"
    },
    {
     "data": {
      "application/vnd.jupyter.widget-view+json": {
       "model_id": "c091ff3f460c4b358763802466e0e37f",
       "version_major": 2,
       "version_minor": 0
      },
      "text/plain": "Training:   0%|          | 0/358 [00:00<?, ?it/s]"
     },
     "metadata": {},
     "output_type": "display_data"
    },
    {
     "data": {
      "application/vnd.jupyter.widget-view+json": {
       "model_id": "2a6dbe04dc9a4b15882da8c8ce4d3587",
       "version_major": 2,
       "version_minor": 0
      },
      "text/plain": "Training:   0%|          | 0/358 [00:00<?, ?it/s]"
     },
     "metadata": {},
     "output_type": "display_data"
    },
    {
     "data": {
      "application/vnd.jupyter.widget-view+json": {
       "model_id": "97b95b50e81b4c29bd854000d626a715",
       "version_major": 2,
       "version_minor": 0
      },
      "text/plain": "Training:   0%|          | 0/358 [00:00<?, ?it/s]"
     },
     "metadata": {},
     "output_type": "display_data"
    },
    {
     "data": {
      "application/vnd.jupyter.widget-view+json": {
       "model_id": "d09c774c230d4be8b2de2124525fb77a",
       "version_major": 2,
       "version_minor": 0
      },
      "text/plain": "Training:   0%|          | 0/358 [00:00<?, ?it/s]"
     },
     "metadata": {},
     "output_type": "display_data"
    },
    {
     "name": "stdout",
     "output_type": "stream",
     "text": [
      "epoch # 71\ttrain_loss: 1.39e-02\tmodel_acc: {'accuracy': 0.42}\n",
      "\n"
     ]
    },
    {
     "data": {
      "application/vnd.jupyter.widget-view+json": {
       "model_id": "de79eee1767646cba8fd11d33233361c",
       "version_major": 2,
       "version_minor": 0
      },
      "text/plain": "Training:   0%|          | 0/358 [00:00<?, ?it/s]"
     },
     "metadata": {},
     "output_type": "display_data"
    },
    {
     "data": {
      "application/vnd.jupyter.widget-view+json": {
       "model_id": "5b786f4773884950b8a0bc32eb853284",
       "version_major": 2,
       "version_minor": 0
      },
      "text/plain": "Training:   0%|          | 0/358 [00:00<?, ?it/s]"
     },
     "metadata": {},
     "output_type": "display_data"
    },
    {
     "data": {
      "application/vnd.jupyter.widget-view+json": {
       "model_id": "da525f9d965047d3bb13abe9d629a10a",
       "version_major": 2,
       "version_minor": 0
      },
      "text/plain": "Training:   0%|          | 0/358 [00:00<?, ?it/s]"
     },
     "metadata": {},
     "output_type": "display_data"
    },
    {
     "data": {
      "application/vnd.jupyter.widget-view+json": {
       "model_id": "3017286664304bfd85d92c177f4c456e",
       "version_major": 2,
       "version_minor": 0
      },
      "text/plain": "Training:   0%|          | 0/358 [00:00<?, ?it/s]"
     },
     "metadata": {},
     "output_type": "display_data"
    },
    {
     "data": {
      "application/vnd.jupyter.widget-view+json": {
       "model_id": "7995239e591a48f1ae54e6570733cd70",
       "version_major": 2,
       "version_minor": 0
      },
      "text/plain": "Training:   0%|          | 0/358 [00:00<?, ?it/s]"
     },
     "metadata": {},
     "output_type": "display_data"
    },
    {
     "data": {
      "application/vnd.jupyter.widget-view+json": {
       "model_id": "2877baf296b740558c0087ba8d260eb0",
       "version_major": 2,
       "version_minor": 0
      },
      "text/plain": "Training:   0%|          | 0/358 [00:00<?, ?it/s]"
     },
     "metadata": {},
     "output_type": "display_data"
    },
    {
     "data": {
      "application/vnd.jupyter.widget-view+json": {
       "model_id": "747f1bfefd2c42e3a67c674a06df3c19",
       "version_major": 2,
       "version_minor": 0
      },
      "text/plain": "Training:   0%|          | 0/358 [00:00<?, ?it/s]"
     },
     "metadata": {},
     "output_type": "display_data"
    },
    {
     "data": {
      "application/vnd.jupyter.widget-view+json": {
       "model_id": "1c87cebfcb1f47efba84c2989c9f9b63",
       "version_major": 2,
       "version_minor": 0
      },
      "text/plain": "Training:   0%|          | 0/358 [00:00<?, ?it/s]"
     },
     "metadata": {},
     "output_type": "display_data"
    },
    {
     "data": {
      "application/vnd.jupyter.widget-view+json": {
       "model_id": "6ee63e99d04640d99be46b9cfd58adcd",
       "version_major": 2,
       "version_minor": 0
      },
      "text/plain": "Training:   0%|          | 0/358 [00:00<?, ?it/s]"
     },
     "metadata": {},
     "output_type": "display_data"
    },
    {
     "data": {
      "application/vnd.jupyter.widget-view+json": {
       "model_id": "35f2b93bef594ea480714537c9649b00",
       "version_major": 2,
       "version_minor": 0
      },
      "text/plain": "Training:   0%|          | 0/358 [00:00<?, ?it/s]"
     },
     "metadata": {},
     "output_type": "display_data"
    },
    {
     "name": "stdout",
     "output_type": "stream",
     "text": [
      "epoch # 81\ttrain_loss: 1.39e-02\tmodel_acc: {'accuracy': 0.52}\n",
      "\n"
     ]
    },
    {
     "data": {
      "application/vnd.jupyter.widget-view+json": {
       "model_id": "6851bfeb651744d6a4e1e3d0d379062b",
       "version_major": 2,
       "version_minor": 0
      },
      "text/plain": "Training:   0%|          | 0/358 [00:00<?, ?it/s]"
     },
     "metadata": {},
     "output_type": "display_data"
    },
    {
     "data": {
      "application/vnd.jupyter.widget-view+json": {
       "model_id": "a62daf9c7a304b409487a416c35339c6",
       "version_major": 2,
       "version_minor": 0
      },
      "text/plain": "Training:   0%|          | 0/358 [00:00<?, ?it/s]"
     },
     "metadata": {},
     "output_type": "display_data"
    },
    {
     "data": {
      "application/vnd.jupyter.widget-view+json": {
       "model_id": "9e297b9f53544c92bbbead002d3cf0f1",
       "version_major": 2,
       "version_minor": 0
      },
      "text/plain": "Training:   0%|          | 0/358 [00:00<?, ?it/s]"
     },
     "metadata": {},
     "output_type": "display_data"
    },
    {
     "data": {
      "application/vnd.jupyter.widget-view+json": {
       "model_id": "534b1600927544c68e42d75699c7b377",
       "version_major": 2,
       "version_minor": 0
      },
      "text/plain": "Training:   0%|          | 0/358 [00:00<?, ?it/s]"
     },
     "metadata": {},
     "output_type": "display_data"
    },
    {
     "data": {
      "application/vnd.jupyter.widget-view+json": {
       "model_id": "45cec00cef54427c9ebcd3fcdd572d40",
       "version_major": 2,
       "version_minor": 0
      },
      "text/plain": "Training:   0%|          | 0/358 [00:00<?, ?it/s]"
     },
     "metadata": {},
     "output_type": "display_data"
    },
    {
     "data": {
      "application/vnd.jupyter.widget-view+json": {
       "model_id": "577c927149c24ae08be7669de4b2343a",
       "version_major": 2,
       "version_minor": 0
      },
      "text/plain": "Training:   0%|          | 0/358 [00:00<?, ?it/s]"
     },
     "metadata": {},
     "output_type": "display_data"
    },
    {
     "data": {
      "application/vnd.jupyter.widget-view+json": {
       "model_id": "431862e303f7478eb2a66db11b13ba09",
       "version_major": 2,
       "version_minor": 0
      },
      "text/plain": "Training:   0%|          | 0/358 [00:00<?, ?it/s]"
     },
     "metadata": {},
     "output_type": "display_data"
    },
    {
     "data": {
      "application/vnd.jupyter.widget-view+json": {
       "model_id": "ec38f6f22dfa4e1abadd716a68cb7722",
       "version_major": 2,
       "version_minor": 0
      },
      "text/plain": "Training:   0%|          | 0/358 [00:00<?, ?it/s]"
     },
     "metadata": {},
     "output_type": "display_data"
    },
    {
     "data": {
      "application/vnd.jupyter.widget-view+json": {
       "model_id": "68327a6abdda4732a2d4ab82649c7803",
       "version_major": 2,
       "version_minor": 0
      },
      "text/plain": "Training:   0%|          | 0/358 [00:00<?, ?it/s]"
     },
     "metadata": {},
     "output_type": "display_data"
    },
    {
     "data": {
      "application/vnd.jupyter.widget-view+json": {
       "model_id": "56791247c0ea46188867db041fc600df",
       "version_major": 2,
       "version_minor": 0
      },
      "text/plain": "Training:   0%|          | 0/358 [00:00<?, ?it/s]"
     },
     "metadata": {},
     "output_type": "display_data"
    },
    {
     "name": "stdout",
     "output_type": "stream",
     "text": [
      "epoch # 91\ttrain_loss: 1.39e-02\tmodel_acc: {'accuracy': 0.48}\n",
      "\n"
     ]
    },
    {
     "data": {
      "application/vnd.jupyter.widget-view+json": {
       "model_id": "5c903ebc59624c32b37e7a8ad0901777",
       "version_major": 2,
       "version_minor": 0
      },
      "text/plain": "Training:   0%|          | 0/358 [00:00<?, ?it/s]"
     },
     "metadata": {},
     "output_type": "display_data"
    },
    {
     "data": {
      "application/vnd.jupyter.widget-view+json": {
       "model_id": "e8b945e1a3c14adea35d48e0c4a7534f",
       "version_major": 2,
       "version_minor": 0
      },
      "text/plain": "Training:   0%|          | 0/358 [00:00<?, ?it/s]"
     },
     "metadata": {},
     "output_type": "display_data"
    },
    {
     "data": {
      "application/vnd.jupyter.widget-view+json": {
       "model_id": "ef4b535a3dea45b8ad13df15852a90b3",
       "version_major": 2,
       "version_minor": 0
      },
      "text/plain": "Training:   0%|          | 0/358 [00:00<?, ?it/s]"
     },
     "metadata": {},
     "output_type": "display_data"
    },
    {
     "data": {
      "application/vnd.jupyter.widget-view+json": {
       "model_id": "5d34476357e343c18f65e6d1915b0262",
       "version_major": 2,
       "version_minor": 0
      },
      "text/plain": "Training:   0%|          | 0/358 [00:00<?, ?it/s]"
     },
     "metadata": {},
     "output_type": "display_data"
    },
    {
     "data": {
      "application/vnd.jupyter.widget-view+json": {
       "model_id": "7658b6c3b5434c4b96b1c8d4730dd162",
       "version_major": 2,
       "version_minor": 0
      },
      "text/plain": "Training:   0%|          | 0/358 [00:00<?, ?it/s]"
     },
     "metadata": {},
     "output_type": "display_data"
    },
    {
     "data": {
      "application/vnd.jupyter.widget-view+json": {
       "model_id": "2dfbb5556b874a9ca650b36a4bec0bab",
       "version_major": 2,
       "version_minor": 0
      },
      "text/plain": "Training:   0%|          | 0/358 [00:00<?, ?it/s]"
     },
     "metadata": {},
     "output_type": "display_data"
    },
    {
     "data": {
      "application/vnd.jupyter.widget-view+json": {
       "model_id": "bdab081d155847c9b9d530133a53737c",
       "version_major": 2,
       "version_minor": 0
      },
      "text/plain": "Training:   0%|          | 0/358 [00:00<?, ?it/s]"
     },
     "metadata": {},
     "output_type": "display_data"
    },
    {
     "data": {
      "application/vnd.jupyter.widget-view+json": {
       "model_id": "971d9409848348889e6683681b221972",
       "version_major": 2,
       "version_minor": 0
      },
      "text/plain": "Training:   0%|          | 0/358 [00:00<?, ?it/s]"
     },
     "metadata": {},
     "output_type": "display_data"
    },
    {
     "data": {
      "application/vnd.jupyter.widget-view+json": {
       "model_id": "02e2ea85b4724f3aaa27e30877da337e",
       "version_major": 2,
       "version_minor": 0
      },
      "text/plain": "Training:   0%|          | 0/358 [00:00<?, ?it/s]"
     },
     "metadata": {},
     "output_type": "display_data"
    }
   ],
   "source": [
    "model.train()\r\n",
    "i=0\r\n",
    "for epoch in tqdm(range(100)):\r\n",
    "    total_loss = total = 0\r\n",
    "    progress_bar = tqdm(train_loader, desc='Training', leave=False,total=len(train_loader))\r\n",
    "    for inputs, targets, lengths in progress_bar:\r\n",
    "        # Clean old gradients\r\n",
    "        optimizer.zero_grad()\r\n",
    "\r\n",
    "        # Forwards pass\r\n",
    "        loss,metric_ = model(inputs, targets, lengths)\r\n",
    "        # print(inputs[:,-1])\r\n",
    "        # Perform gradient descent, backwards pass\r\n",
    "        # break\r\n",
    "        loss.backward()\r\n",
    "\r\n",
    "        # Take a step in the right direction\r\n",
    "        optimizer.step()\r\n",
    "\r\n",
    "        # Record metrics\r\n",
    "        total_loss += loss\r\n",
    "        total += targets.size(0)\r\n",
    "\r\n",
    "    train_loss = total_loss / total\r\n",
    "    if i%10==0:\r\n",
    "        tqdm.write(f'epoch #{epoch + 1:3d}\\ttrain_loss: {train_loss:.2e}\\tmodel_acc: {metric_}\\n')\r\n",
    "    i=i+1"
   ]
  },
  {
   "cell_type": "code",
   "execution_count": 22,
   "metadata": {},
   "outputs": [],
   "source": [
    "from no_toxicity.src.preprocessing.cleaning import Dfcleaner\r\n",
    "def collate_pred(batch):\r\n",
    "    pred_input=torch.LongTensor(batch)\r\n",
    "    return pred_input.to(device)\r\n",
    "\r\n",
    "def predict(raw_text):\r\n",
    "    cleaner=Dfcleaner()\r\n",
    "    cleaned_text=cleaner.clean(raw_text,stem=False,is_prediction=True)\r\n",
    "    cleaned_text=cleaned_text[0]\r\n",
    "    tokenized_text=dataset.tokenize(cleaned_text)\r\n",
    "    encode = lambda x: [dataset.token2idx_inputs[token] for token in tokenized_text if token in dataset.token2idx_inputs]  \r\n",
    "    encoded_text=encode(tokenized_text) \r\n",
    "    encoded_text=[encoded_text]\r\n",
    "    test_loader = DataLoader(encoded_text, batch_size=1, collate_fn=collate_pred,shuffle=True)\r\n",
    "    model.eval()\r\n",
    "    with torch.no_grad():\r\n",
    "        for inputs in test_loader:\r\n",
    "            output=model.predict(inputs)\r\n",
    "            \r\n",
    "            print(output)\r\n",
    "    "
   ]
  },
  {
   "cell_type": "code",
   "execution_count": 70,
   "metadata": {},
   "outputs": [
    {
     "name": "stdout",
     "output_type": "stream",
     "text": [
      "['not_toxic']\n"
     ]
    }
   ],
   "source": [
    "raw_text=[\"this a non toxic sentence\"]\r\n",
    "predict(raw_text)"
   ]
  },
  {
   "cell_type": "code",
   "execution_count": 93,
   "metadata": {},
   "outputs": [
    {
     "name": "stdout",
     "output_type": "stream",
     "text": [
      "['toxic', 'threat', 'insult']\n"
     ]
    }
   ],
   "source": [
    "raw_text=[\"This man is a retard\"]\r\n",
    "predict(raw_text)"
   ]
  }
 ],
 "metadata": {
  "kernelspec": {
   "display_name": "Python 3.8.8 64-bit",
   "name": "python388jvsc74a57bd07f3de5096ca57544369bb14db0d707c452af519be01e653fe2c6b8aa83f4de32"
  },
  "language_info": {
   "codemirror_mode": {
    "name": "ipython",
    "version": 3
   },
   "file_extension": ".py",
   "mimetype": "text/x-python",
   "name": "python",
   "nbconvert_exporter": "python",
   "pygments_lexer": "ipython3",
   "version": "3.8.8"
  },
  "metadata": {
   "interpreter": {
    "hash": "7f3de5096ca57544369bb14db0d707c452af519be01e653fe2c6b8aa83f4de32"
   }
  },
  "orig_nbformat": 2
 },
 "nbformat": 4,
 "nbformat_minor": 2
}