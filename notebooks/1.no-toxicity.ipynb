{
 "cells": [
  {
   "cell_type": "code",
   "execution_count": 1,
   "metadata": {},
   "outputs": [],
   "source": [
    "import pandas as pd\r\n",
    "import sys\r\n",
    "sys.path.append('../../')\r\n",
    "%load_ext autoreload"
   ]
  },
  {
   "cell_type": "code",
   "execution_count": 7,
   "metadata": {},
   "outputs": [],
   "source": [
    "df=pd.read_csv('../data/modified/data_to_work_on.csv')"
   ]
  },
  {
   "cell_type": "code",
   "execution_count": null,
   "metadata": {},
   "outputs": [],
   "source": [
    "df=df[:]"
   ]
  },
  {
   "cell_type": "code",
   "execution_count": 3,
   "metadata": {},
   "outputs": [],
   "source": [
    "# df=pd.read_csv('../data/raw/test_labels.csv')"
   ]
  },
  {
   "cell_type": "code",
   "execution_count": 3,
   "metadata": {},
   "outputs": [],
   "source": [
    "df=df.iloc[:50000,:]"
   ]
  },
  {
   "cell_type": "code",
   "execution_count": 4,
   "metadata": {},
   "outputs": [
    {
     "data": {
      "text/html": "<div>\n<style scoped>\n    .dataframe tbody tr th:only-of-type {\n        vertical-align: middle;\n    }\n\n    .dataframe tbody tr th {\n        vertical-align: top;\n    }\n\n    .dataframe thead th {\n        text-align: right;\n    }\n</style>\n<table border=\"1\" class=\"dataframe\">\n  <thead>\n    <tr style=\"text-align: right;\">\n      <th></th>\n      <th>comment_text</th>\n      <th>toxic</th>\n      <th>severe_toxic</th>\n      <th>obscene</th>\n      <th>threat</th>\n      <th>insult</th>\n      <th>identity_hate</th>\n    </tr>\n  </thead>\n  <tbody>\n    <tr>\n      <th>0</th>\n      <td>Explanation\\nWhy the edits made under my usern...</td>\n      <td>0</td>\n      <td>0</td>\n      <td>0</td>\n      <td>0</td>\n      <td>0</td>\n      <td>0</td>\n    </tr>\n    <tr>\n      <th>1</th>\n      <td>D'aww! He matches this background colour I'm s...</td>\n      <td>0</td>\n      <td>0</td>\n      <td>0</td>\n      <td>0</td>\n      <td>0</td>\n      <td>0</td>\n    </tr>\n    <tr>\n      <th>2</th>\n      <td>Hey man, I'm really not trying to edit war. It...</td>\n      <td>0</td>\n      <td>0</td>\n      <td>0</td>\n      <td>0</td>\n      <td>0</td>\n      <td>0</td>\n    </tr>\n    <tr>\n      <th>3</th>\n      <td>\"\\nMore\\nI can't make any real suggestions on ...</td>\n      <td>0</td>\n      <td>0</td>\n      <td>0</td>\n      <td>0</td>\n      <td>0</td>\n      <td>0</td>\n    </tr>\n    <tr>\n      <th>4</th>\n      <td>You, sir, are my hero. Any chance you remember...</td>\n      <td>0</td>\n      <td>0</td>\n      <td>0</td>\n      <td>0</td>\n      <td>0</td>\n      <td>0</td>\n    </tr>\n    <tr>\n      <th>...</th>\n      <td>...</td>\n      <td>...</td>\n      <td>...</td>\n      <td>...</td>\n      <td>...</td>\n      <td>...</td>\n      <td>...</td>\n    </tr>\n    <tr>\n      <th>49995</th>\n      <td>\"\\nWell, she's done writing articles. But does...</td>\n      <td>0</td>\n      <td>0</td>\n      <td>0</td>\n      <td>0</td>\n      <td>0</td>\n      <td>0</td>\n    </tr>\n    <tr>\n      <th>49996</th>\n      <td>There was also an Atlantis wrap back in 2001. ...</td>\n      <td>0</td>\n      <td>0</td>\n      <td>0</td>\n      <td>0</td>\n      <td>0</td>\n      <td>0</td>\n    </tr>\n    <tr>\n      <th>49997</th>\n      <td>\"\\nI've removed the various \"\"references\"\" as ...</td>\n      <td>0</td>\n      <td>0</td>\n      <td>0</td>\n      <td>0</td>\n      <td>0</td>\n      <td>0</td>\n    </tr>\n    <tr>\n      <th>49998</th>\n      <td>RE: Removal of Templates \\n\\nI would be most g...</td>\n      <td>1</td>\n      <td>0</td>\n      <td>0</td>\n      <td>0</td>\n      <td>1</td>\n      <td>0</td>\n    </tr>\n    <tr>\n      <th>49999</th>\n      <td>Exactly. I want the drawing to have come first...</td>\n      <td>0</td>\n      <td>0</td>\n      <td>0</td>\n      <td>0</td>\n      <td>0</td>\n      <td>0</td>\n    </tr>\n  </tbody>\n</table>\n<p>50000 rows × 7 columns</p>\n</div>",
      "text/plain": "                                            comment_text  toxic  severe_toxic  \\\n0      Explanation\\nWhy the edits made under my usern...      0             0   \n1      D'aww! He matches this background colour I'm s...      0             0   \n2      Hey man, I'm really not trying to edit war. It...      0             0   \n3      \"\\nMore\\nI can't make any real suggestions on ...      0             0   \n4      You, sir, are my hero. Any chance you remember...      0             0   \n...                                                  ...    ...           ...   \n49995  \"\\nWell, she's done writing articles. But does...      0             0   \n49996  There was also an Atlantis wrap back in 2001. ...      0             0   \n49997  \"\\nI've removed the various \"\"references\"\" as ...      0             0   \n49998  RE: Removal of Templates \\n\\nI would be most g...      1             0   \n49999  Exactly. I want the drawing to have come first...      0             0   \n\n       obscene  threat  insult  identity_hate  \n0            0       0       0              0  \n1            0       0       0              0  \n2            0       0       0              0  \n3            0       0       0              0  \n4            0       0       0              0  \n...        ...     ...     ...            ...  \n49995        0       0       0              0  \n49996        0       0       0              0  \n49997        0       0       0              0  \n49998        0       0       1              0  \n49999        0       0       0              0  \n\n[50000 rows x 7 columns]"
     },
     "execution_count": 4,
     "metadata": {},
     "output_type": "execute_result"
    }
   ],
   "source": [
    "df"
   ]
  },
  {
   "cell_type": "code",
   "execution_count": 5,
   "metadata": {},
   "outputs": [],
   "source": [
    "# %autoreload 2\r\n",
    "from no_toxicity.src.preprocessing.cleaning1 import Dfcleaner"
   ]
  },
  {
   "cell_type": "code",
   "execution_count": 8,
   "metadata": {},
   "outputs": [],
   "source": [
    "cleaner=Dfcleaner()\r\n",
    "dt=df.copy()"
   ]
  },
  {
   "cell_type": "code",
   "execution_count": 9,
   "metadata": {},
   "outputs": [
    {
     "name": "stdout",
     "output_type": "stream",
     "text": [
      "10000 examples cleaned out of 159571\n",
      "20000 examples cleaned out of 159571\n",
      "30000 examples cleaned out of 159571\n",
      "40000 examples cleaned out of 159571\n",
      "50000 examples cleaned out of 159571\n",
      "60000 examples cleaned out of 159571\n",
      "70000 examples cleaned out of 159571\n",
      "80000 examples cleaned out of 159571\n",
      "90000 examples cleaned out of 159571\n",
      "100000 examples cleaned out of 159571\n",
      "110000 examples cleaned out of 159571\n"
     ]
    }
   ],
   "source": [
    "dt=cleaner.clean(dt)"
   ]
  },
  {
   "cell_type": "code",
   "execution_count": null,
   "metadata": {},
   "outputs": [
    {
     "ename": "Error",
     "evalue": "Session cannot generate requests",
     "output_type": "error",
     "traceback": [
      "Error: Session cannot generate requests",
      "at w.executeCodeCell (c:\\Users\\dummy\\.vscode\\extensions\\ms-toolsai.jupyter-2021.6.832593372\\out\\client\\extension.js:90:316184)",
      "at w.execute (c:\\Users\\dummy\\.vscode\\extensions\\ms-toolsai.jupyter-2021.6.832593372\\out\\client\\extension.js:90:315573)",
      "at w.start (c:\\Users\\dummy\\.vscode\\extensions\\ms-toolsai.jupyter-2021.6.832593372\\out\\client\\extension.js:90:311378)",
      "at runMicrotasks (<anonymous>)",
      "at processTicksAndRejections (internal/process/task_queues.js:93:5)",
      "at async t.CellExecutionQueue.executeQueuedCells (c:\\Users\\dummy\\.vscode\\extensions\\ms-toolsai.jupyter-2021.6.832593372\\out\\client\\extension.js:90:325786)",
      "at async t.CellExecutionQueue.start (c:\\Users\\dummy\\.vscode\\extensions\\ms-toolsai.jupyter-2021.6.832593372\\out\\client\\extension.js:90:325326)"
     ]
    }
   ],
   "source": [
    "dt"
   ]
  },
  {
   "cell_type": "code",
   "execution_count": null,
   "metadata": {},
   "outputs": [
    {
     "ename": "Error",
     "evalue": "Session cannot generate requests",
     "output_type": "error",
     "traceback": [
      "Error: Session cannot generate requests",
      "at w.executeCodeCell (c:\\Users\\dummy\\.vscode\\extensions\\ms-toolsai.jupyter-2021.6.832593372\\out\\client\\extension.js:90:316184)",
      "at w.execute (c:\\Users\\dummy\\.vscode\\extensions\\ms-toolsai.jupyter-2021.6.832593372\\out\\client\\extension.js:90:315573)",
      "at w.start (c:\\Users\\dummy\\.vscode\\extensions\\ms-toolsai.jupyter-2021.6.832593372\\out\\client\\extension.js:90:311378)",
      "at runMicrotasks (<anonymous>)",
      "at processTicksAndRejections (internal/process/task_queues.js:93:5)",
      "at async t.CellExecutionQueue.executeQueuedCells (c:\\Users\\dummy\\.vscode\\extensions\\ms-toolsai.jupyter-2021.6.832593372\\out\\client\\extension.js:90:325786)",
      "at async t.CellExecutionQueue.start (c:\\Users\\dummy\\.vscode\\extensions\\ms-toolsai.jupyter-2021.6.832593372\\out\\client\\extension.js:90:325326)"
     ]
    }
   ],
   "source": [
    "b"
   ]
  },
  {
   "cell_type": "code",
   "execution_count": null,
   "metadata": {},
   "outputs": [],
   "source": []
  }
 ],
 "metadata": {
  "kernelspec": {
   "display_name": "Python 3.8.8 64-bit",
   "name": "python388jvsc74a57bd07f3de5096ca57544369bb14db0d707c452af519be01e653fe2c6b8aa83f4de32"
  },
  "language_info": {
   "codemirror_mode": {
    "name": "ipython",
    "version": 3
   },
   "file_extension": ".py",
   "mimetype": "text/x-python",
   "name": "python",
   "nbconvert_exporter": "python",
   "pygments_lexer": "ipython3",
   "version": "3.8.8"
  },
  "metadata": {
   "interpreter": {
    "hash": "7f3de5096ca57544369bb14db0d707c452af519be01e653fe2c6b8aa83f4de32"
   }
  },
  "orig_nbformat": 2
 },
 "nbformat": 4,
 "nbformat_minor": 2
}